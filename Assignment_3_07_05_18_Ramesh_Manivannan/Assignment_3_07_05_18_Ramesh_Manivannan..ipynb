{
 "cells": [
  {
   "cell_type": "markdown",
   "metadata": {},
   "source": [
    "### Multi-Layer Perceptron using Pytorch - CIFAR10 ###\n",
    "1.Iswariya Manivannan<br>\n",
    "2.Sathiya Ramesh"
   ]
  },
  {
   "cell_type": "code",
   "execution_count": 1,
   "metadata": {},
   "outputs": [],
   "source": [
    "import torch\n",
    "import skorch # A pytorch wrapper for using sklearn\n",
    "import torch.nn as nn\n",
    "import torch.optim as optim\n",
    "import torchvision.transforms as transforms\n",
    "import torchvision.datasets as dsets\n",
    "\n",
    "\n",
    "from skorch.callbacks import WarmRestartLR, CyclicLR\n",
    "from skorch.callbacks import LRScheduler\n",
    "from sklearn.model_selection import GridSearchCV\n",
    "from sklearn.model_selection import learning_curve\n",
    "from skorch.callbacks import EpochScoring\n",
    "from skorch import NeuralNetClassifier\n",
    "from skorch import utils\n",
    "%matplotlib inline\n",
    "import matplotlib.pyplot as plt \n",
    "import numpy as np\n",
    "\n",
    "torch.manual_seed(40)\n",
    "torch.cuda.manual_seed(40)\n",
    "np.random.seed(2)"
   ]
  },
  {
   "cell_type": "code",
   "execution_count": 2,
   "metadata": {},
   "outputs": [
    {
     "name": "stdout",
     "output_type": "stream",
     "text": [
      "Files already downloaded and verified\n",
      "Files already downloaded and verified\n"
     ]
    }
   ],
   "source": [
    "# Normalizing the output PIL Image of Torchvision dataset from [0,1] to [-1,1]\n",
    "train_transform = transforms.Compose([\n",
    "                                #transforms.RandomHorizontalFlip(),\n",
    "                                #transforms.ColorJitter(brightness= 5, contrast= 5),\n",
    "                                transforms.ToTensor(),\n",
    "                                transforms.Normalize((0.5, 0.5, 0.5), (0.5, 0.5, 0.5))])\n",
    "\n",
    "\n",
    "test_transform = transforms.Compose([transforms.ToTensor(),\n",
    "                                transforms.Normalize((0.5, 0.5, 0.5), (0.5, 0.5, 0.5))])\n",
    "\n",
    "trainset = dsets.CIFAR10('./data', train=True, download=True, transform=train_transform)\n",
    "testset = dsets.CIFAR10('./data', train=False, download=True, transform=test_transform)\n",
    "\n",
    "\n",
    "classes = ('plane', 'car', 'bird', 'cat','deer', 'dog', 'frog', 'horse', 'ship', 'truck')"
   ]
  },
  {
   "cell_type": "code",
   "execution_count": 3,
   "metadata": {},
   "outputs": [],
   "source": [
    "# Function to separate the data in trainset/testset as images and labels\n",
    "def dataloader(dataset):\n",
    "    images_labels = zip(*dataset)\n",
    "    images_labels = list(images_labels)\n",
    "    X = list(images_labels[0])\n",
    "    y = list(images_labels[1])\n",
    "    images = np.stack(X, axis =0)\n",
    "    labels = np.asarray(y)\n",
    "\n",
    "    images = np.reshape(images, (-1, 32*32*3))\n",
    "    print(images.shape)\n",
    "    \n",
    "    return images, labels"
   ]
  },
  {
   "cell_type": "code",
   "execution_count": 4,
   "metadata": {},
   "outputs": [
    {
     "name": "stdout",
     "output_type": "stream",
     "text": [
      "(50000, 3072)\n",
      "(10000, 3072)\n"
     ]
    }
   ],
   "source": [
    "X_train, y_train = dataloader(trainset)\n",
    "X_test, y_test = dataloader(testset)"
   ]
  },
  {
   "cell_type": "code",
   "execution_count": 5,
   "metadata": {},
   "outputs": [],
   "source": [
    "# 2 layer Logistic Regression Model which has 4 Hidden layers with Relu activation and an Output layer\n",
    "class Multi_layer_perceptron(nn.Module):\n",
    "    \n",
    "    def __init__(self, input_dims, output_dims, dropout):\n",
    "        \n",
    "        super(Multi_layer_perceptron, self).__init__()\n",
    "        self.linear1 = nn.Linear(input_dims, 2056)\n",
    "        self.batchnorm1 = nn.BatchNorm1d(2056)\n",
    "        \n",
    "        self.dropout_input = nn.Dropout(dropout[0])\n",
    "        self.dropout_hidden = nn.Dropout(dropout[1])\n",
    "        \n",
    "        self.linear2 = nn.Linear(2056, 1024)\n",
    "        self.batchnorm2 = nn.BatchNorm1d(1024)\n",
    "\n",
    "        self.linear3 = nn.Linear(1024, 1024)\n",
    "        self.batchnorm3 = nn.BatchNorm1d(1024)\n",
    "        \n",
    "        self.linear4 = nn.Linear(1024, 512)\n",
    "        self.batchnorm4 = nn.BatchNorm1d(512)\n",
    "        \n",
    "        self.linear5 = nn.Linear(512, output_dims)\n",
    "\n",
    "        self.relu = nn.ReLU()\n",
    "    \n",
    "        \n",
    "    def forward(self, x):\n",
    "        \n",
    "        x = self.linear1(x)\n",
    "        x = self.relu(x)\n",
    "        x = self.dropout_input(x)\n",
    "        \n",
    "        x = self.linear2(x)\n",
    "        x = self.batchnorm2(x)\n",
    "        x = self.relu(x)\n",
    "        x = self.dropout_hidden(x)\n",
    "        \n",
    "        x = self.linear3(x)\n",
    "        x = self.batchnorm3(x)\n",
    "        x = self.relu(x)\n",
    "        x = self.dropout_hidden(x)\n",
    "        \n",
    "        x = self.linear4(x)\n",
    "        x = self.batchnorm4(x)\n",
    "        x = self.relu(x)\n",
    " \n",
    "        x = self.linear5(x)\n",
    "        return  x"
   ]
  },
  {
   "cell_type": "code",
   "execution_count": 32,
   "metadata": {},
   "outputs": [],
   "source": [
    "# Calculating Cross Entropy Loss\n",
    "class CrossEntropyLoss(nn.Module):\n",
    "    \n",
    "    log_softmax = nn.LogSoftmax()\n",
    "    \n",
    "    def __init__(self):\n",
    "        super(CrossEntropyLoss, self).__init__()\n",
    "        \n",
    "    def forward(self, logits, targets):\n",
    "        \n",
    "        log_softmax = nn.LogSoftmax(dim=1)\n",
    "        log_probabilities = log_softmax(logits)  # Getting the log probabilities using log_softmax\n",
    "        targets = targets.long()\n",
    "        #loss = - log_probabilities.index_select(-1, targets).diag()\n",
    "        loss = - log_probabilities.gather(1, targets.view(-1,1))  # Filtering out the log probabilities based on target class\n",
    "        return torch.mean(loss)"
   ]
  },
  {
   "cell_type": "code",
   "execution_count": 9,
   "metadata": {},
   "outputs": [],
   "source": [
    "# Calculating Hinge Loss\n",
    "class HingeLoss(nn.Module):\n",
    "\n",
    "    def __init__(self):\n",
    "\n",
    "        super(HingeLoss, self).__init__()\n",
    "\n",
    "        \n",
    "\n",
    "    def forward(self, logits, targets):\n",
    "\n",
    "        targets = targets.long()\n",
    "        zeros = torch.tensor([0.])\n",
    "        loss= torch.max(zeros,logits - logits.gather(1, targets.unsqueeze(1))+1)\n",
    "\n",
    "        dim_array = torch.arange(0, targets.shape[0], out=torch.LongTensor())\n",
    "\n",
    "\n",
    "        idx=(dim_array,targets) # tuple of Long tensor containing the indices of target class score\n",
    "        \n",
    "        loss.index_put_(idx, torch.tensor([0.]))# Replacing 0s in positions where the target score is subtracted from itself    \n",
    "\n",
    "        return torch.mean(torch.sum(loss,dim=1))"
   ]
  },
  {
   "cell_type": "markdown",
   "metadata": {},
   "source": [
    "We the use the following techniques to improve the model accuracy:\n",
    "1. Dropout with a probability of 0.3\n",
    "2. L2 regularization of $3e^-4$\n",
    "3. Learning rate Decay using a learning rate schedular which utilizes the CyclicLR policy.\n",
    "We chose the following values after several training instances because they gave the highest validation set accuracy of 58%.\n",
    "4. Early stopping"
   ]
  },
  {
   "cell_type": "code",
   "execution_count": 39,
   "metadata": {},
   "outputs": [],
   "source": [
    "input_dim = 32*32*3\n",
    "output_dim = 10\n",
    "\n",
    "#scheduler_clbk_warmrestarts = LRScheduler(policy = 'WarmRestartLR',  min_lr=1e-06, max_lr=0.0001)\n",
    "\n",
    "scheduler_clbk_cyclic_lr = LRScheduler(policy = 'CyclicLR',  base_lr = 1e-06, max_lr = 0.0001, step_size = 2*50000//512)\n",
    "\n",
    "\n",
    "model = NeuralNetClassifier(module = Multi_layer_perceptron, module__input_dims = input_dim, module__output_dims = output_dim,\n",
    "                           max_epochs = 50, lr = 0.0001, batch_size = 512, module__dropout = [0.3, 0.3],\n",
    "                           criterion = CrossEntropyLoss, optimizer = optim.Adam, callbacks = [scheduler_clbk_cyclic_lr],\n",
    "                           optimizer__weight_decay = 3e-4, verbose = 2) \n",
    "\n",
    "# To use hinge loss, replace CrossEntropyLoss in criterion to HingeLoss"
   ]
  },
  {
   "cell_type": "code",
   "execution_count": 40,
   "metadata": {},
   "outputs": [
    {
     "name": "stdout",
     "output_type": "stream",
     "text": [
      "  epoch    train_loss    valid_acc    valid_loss      dur\n",
      "-------  ------------  -----------  ------------  -------\n",
      "      1        \u001b[36m2.1828\u001b[0m       \u001b[32m0.3444\u001b[0m        \u001b[35m1.9447\u001b[0m  35.7100\n",
      "      2        \u001b[36m1.8103\u001b[0m       \u001b[32m0.4212\u001b[0m        \u001b[35m1.6400\u001b[0m  28.4168\n",
      "      3        \u001b[36m1.5889\u001b[0m       \u001b[32m0.4718\u001b[0m        \u001b[35m1.4940\u001b[0m  23.3897\n",
      "      4        \u001b[36m1.4751\u001b[0m       \u001b[32m0.4933\u001b[0m        \u001b[35m1.4326\u001b[0m  23.4591\n",
      "      5        \u001b[36m1.4281\u001b[0m       \u001b[32m0.4942\u001b[0m        \u001b[35m1.4195\u001b[0m  29.0940\n",
      "      6        \u001b[36m1.4034\u001b[0m       \u001b[32m0.5076\u001b[0m        \u001b[35m1.3841\u001b[0m  33.4610\n",
      "      7        \u001b[36m1.3495\u001b[0m       \u001b[32m0.5216\u001b[0m        \u001b[35m1.3383\u001b[0m  33.4558\n",
      "      8        \u001b[36m1.2565\u001b[0m       \u001b[32m0.5342\u001b[0m        \u001b[35m1.3005\u001b[0m  27.0931\n",
      "      9        \u001b[36m1.2119\u001b[0m       \u001b[32m0.5347\u001b[0m        1.3089  23.2718\n",
      "     10        1.2356       0.5325        1.3217  23.2829\n",
      "     11        \u001b[36m1.2007\u001b[0m       \u001b[32m0.5459\u001b[0m        \u001b[35m1.2843\u001b[0m  23.2968\n",
      "     12        \u001b[36m1.0991\u001b[0m       \u001b[32m0.5525\u001b[0m        \u001b[35m1.2485\u001b[0m  24.7119\n",
      "     13        \u001b[36m1.0668\u001b[0m       0.5489        1.2826  23.2138\n",
      "     14        1.1067       0.5402        1.3210  23.6584\n",
      "     15        1.0759       \u001b[32m0.5556\u001b[0m        1.2765  23.2209\n",
      "     16        \u001b[36m0.9741\u001b[0m       \u001b[32m0.5675\u001b[0m        \u001b[35m1.2349\u001b[0m  23.4157\n",
      "     17        \u001b[36m0.9430\u001b[0m       0.5573        1.2833  23.6583\n",
      "     18        0.9941       0.5415        1.3368  23.6290\n",
      "     19        0.9673       0.5591        1.2815  30.2953\n",
      "     20        \u001b[36m0.8535\u001b[0m       \u001b[32m0.5724\u001b[0m        1.2353  25.6235\n",
      "     21        \u001b[36m0.8322\u001b[0m       0.5645        1.2855  23.0983\n",
      "     22        0.8935       0.5432        1.3642  23.1074\n",
      "     23        0.8593       0.5630        1.2867  23.2041\n",
      "     24        \u001b[36m0.7451\u001b[0m       \u001b[32m0.5728\u001b[0m        1.2559  23.7195\n",
      "     25        \u001b[36m0.7343\u001b[0m       0.5683        1.3089  23.3451\n",
      "     26        0.8110       0.5556        1.3719  25.4027\n",
      "     27        0.7713       0.5705        1.3201  31.3332\n",
      "     28        \u001b[36m0.6569\u001b[0m       \u001b[32m0.5816\u001b[0m        1.2798  23.5944\n"
     ]
    },
    {
     "data": {
      "text/plain": [
       "<class 'skorch.net.NeuralNetClassifier'>[initialized](\n",
       "  module_=Multi_layer_perceptron(\n",
       "    (linear1): Linear(in_features=3072, out_features=2056, bias=True)\n",
       "    (batchnorm1): BatchNorm1d(2056, eps=1e-05, momentum=0.1, affine=True, track_running_stats=True)\n",
       "    (dropout_input): Dropout(p=0.3)\n",
       "    (dropout_hidden): Dropout(p=0.3)\n",
       "    (linear2): Linear(in_features=2056, out_features=1024, bias=True)\n",
       "    (batchnorm2): BatchNorm1d(1024, eps=1e-05, momentum=0.1, affine=True, track_running_stats=True)\n",
       "    (linear3): Linear(in_features=1024, out_features=1024, bias=True)\n",
       "    (batchnorm3): BatchNorm1d(1024, eps=1e-05, momentum=0.1, affine=True, track_running_stats=True)\n",
       "    (linear4): Linear(in_features=1024, out_features=512, bias=True)\n",
       "    (batchnorm4): BatchNorm1d(512, eps=1e-05, momentum=0.1, affine=True, track_running_stats=True)\n",
       "    (linear5): Linear(in_features=512, out_features=10, bias=True)\n",
       "    (relu): ReLU()\n",
       "  ),\n",
       ")"
      ]
     },
     "execution_count": 40,
     "metadata": {},
     "output_type": "execute_result"
    }
   ],
   "source": [
    "model.fit(X_train, y_train)"
   ]
  },
  {
   "cell_type": "code",
   "execution_count": 41,
   "metadata": {},
   "outputs": [
    {
     "name": "stdout",
     "output_type": "stream",
     "text": [
      "Test set Accuracy : 57.38999999999999\n"
     ]
    }
   ],
   "source": [
    "# Getting predictions for testset data\n",
    "y_pred = model.predict(X_test)\n",
    "accuracy = np.mean(y_pred == y_test)\n",
    "print(f'Test set Accuracy : {accuracy*100}')"
   ]
  },
  {
   "cell_type": "code",
   "execution_count": 44,
   "metadata": {},
   "outputs": [
    {
     "data": {
      "text/plain": [
       "<matplotlib.legend.Legend at 0x7f60a018a630>"
      ]
     },
     "execution_count": 44,
     "metadata": {},
     "output_type": "execute_result"
    },
    {
     "data": {
      "image/png": "[encoded data removed]",
      "text/plain": [
       "<matplotlib.figure.Figure at 0x7f60c85b20b8>"
      ]
     },
     "metadata": {},
     "output_type": "display_data"
    }
   ],
   "source": [
    "#Plotting learing curve\n",
    "fig = plt.figure(figsize=(12,5))\n",
    "ax = fig.add_subplot(1,2,1)\n",
    "ax.set_title(\"Cost Function\")\n",
    "ax.plot(model.history[:,'train_loss'], '-', color='green')\n",
    "ax.plot(model.history[:,'valid_loss'], '-', color='blue')\n",
    "ax.set_xlabel(\"Epochs\")\n",
    "ax.set_ylabel(\"Cost\")\n",
    "ax.legend(['train_loss', 'valid_loss'])"
   ]
  },
  {
   "cell_type": "code",
   "execution_count": 42,
   "metadata": {},
   "outputs": [
    {
     "name": "stdout",
     "output_type": "stream",
     "text": [
      "[[660  41  79  35  31  14  11  26  81  45]\n",
      " [ 25 636  12  10   4   3  10   3  49 139]\n",
      " [ 42  12 424  66  96  65  63  26  11  11]\n",
      " [ 13  28  89 398  66 235  83  68  32  34]\n",
      " [ 49  16 164  83 550  90  99 106  27  20]\n",
      " [ 10  11  67 173  46 434  28  70  14  15]\n",
      " [ 22  30  87 115  99  58 663  20   7  21]\n",
      " [ 25  26  52  70  73  66  16 643   8  52]\n",
      " [113  62  15  17  21  17  11   7 729  61]\n",
      " [ 41 138  11  33  14  18  16  31  42 602]]\n"
     ]
    }
   ],
   "source": [
    "#Confusion matrix\n",
    "from sklearn.metrics import confusion_matrix\n",
    "cm = confusion_matrix(y_pred, y_test)\n",
    "print(cm)"
   ]
  },
  {
   "cell_type": "code",
   "execution_count": 43,
   "metadata": {},
   "outputs": [
    {
     "name": "stdout",
     "output_type": "stream",
     "text": [
      "('plane', 'car', 'bird', 'cat', 'deer', 'dog', 'frog', 'horse', 'ship', 'truck')\n"
     ]
    },
    {
     "data": {
      "image/png": "[encoded data removed]",
      "text/plain": [
       "<matplotlib.figure.Figure at 0x7f60c8670860>"
      ]
     },
     "metadata": {},
     "output_type": "display_data"
    }
   ],
   "source": [
    "# Plotting confusion matrix\n",
    "import itertools\n",
    "def plot_confusion_matrix(cm, classes):\n",
    "    \n",
    "    cmap = plt.get_cmap('Reds')\n",
    "    plt.figure(figsize=(8,8))\n",
    "    plt.imshow(cm, cmap = cmap, interpolation = 'nearest')\n",
    "    plt.colorbar()\n",
    "    \n",
    "    tick_marks = np.arange(len(classes))\n",
    "    plt.xticks(tick_marks, classes)\n",
    "    plt.yticks(tick_marks, classes)\n",
    "    print(classes)\n",
    "    plt.xlabel(\"Predicted Values\")\n",
    "    plt.ylabel(\"True Values\")\n",
    "    \n",
    "    threshold = cm.max()/2\n",
    "    \n",
    "    for i, j in itertools.product(range(cm.shape[0]), range(cm.shape[1])):\n",
    "        \n",
    "        plt.text(i, j, f'{cm[i, j]}' , horizontalalignment = 'center', \n",
    "                 color=\"white\" if cm[i, j] > threshold else \"black\")\n",
    "\n",
    "plot_confusion_matrix(cm, classes)"
   ]
  },
  {
   "cell_type": "code",
   "execution_count": 46,
   "metadata": {},
   "outputs": [],
   "source": [
    "model.save_params(\"MLP_model.th\")"
   ]
  },
  {
   "cell_type": "code",
   "execution_count": null,
   "metadata": {},
   "outputs": [],
   "source": []
  }
 ],
 "metadata": {
  "kernelspec": {
   "display_name": "Python 3",
   "language": "python",
   "name": "python3"
  },
  "language_info": {
   "codemirror_mode": {
    "name": "ipython",
    "version": 3
   },
   "file_extension": ".py",
   "mimetype": "text/x-python",
   "name": "python",
   "nbconvert_exporter": "python",
   "pygments_lexer": "ipython3",
   "version": "3.6.6"
  }
 },
 "nbformat": 4,
 "nbformat_minor": 2
}
