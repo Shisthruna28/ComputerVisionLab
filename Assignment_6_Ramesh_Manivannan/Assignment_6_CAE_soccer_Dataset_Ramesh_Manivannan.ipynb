{
 "cells": [
  {
   "cell_type": "markdown",
   "metadata": {},
   "source": [
    "### Convolutional Autoencoder using Soccer dataset ###\n",
    "1.Iswariya Manivannan<br>\n",
    "2.Sathiya Ramesh"
   ]
  },
  {
   "cell_type": "code",
   "execution_count": 1,
   "metadata": {},
   "outputs": [],
   "source": [
    "import torch\n",
    "import torch.nn as nn\n",
    "import torch.nn.functional as F\n",
    "import torch.optim as optim\n",
    "import copy\n",
    "\n",
    "import torchvision\n",
    "import torchvision.datasets as dsets\n",
    "import torchvision.transforms as transforms\n",
    "import torchvision.models as models\n",
    "import torch.utils.data as utils_data\n",
    "from torch.utils.data.sampler import SubsetRandomSampler\n",
    "\n",
    "%matplotlib inline\n",
    "import matplotlib.pyplot as plt \n",
    "import numpy as np"
   ]
  },
  {
   "cell_type": "code",
   "execution_count": 2,
   "metadata": {},
   "outputs": [
    {
     "name": "stdout",
     "output_type": "stream",
     "text": [
      "cuda:0\n",
      "True\n"
     ]
    }
   ],
   "source": [
    "cuda0 = torch.device('cuda:0' if torch.cuda.is_available() else 'cpu')\n",
    "print(cuda0)\n",
    "print(torch.cuda.is_available())"
   ]
  },
  {
   "cell_type": "code",
   "execution_count": 3,
   "metadata": {},
   "outputs": [],
   "source": [
    "\n",
    "transform = transforms.Compose([transforms.Resize((160,160)), transforms.RandomHorizontalFlip(),\n",
    "                               transforms.ToTensor(),\n",
    "                               transforms.Normalize((0.5, 0.5, 0.5), (0.5, 0.5, 0.5))])\n",
    "\n",
    "trainset = dsets.ImageFolder('/opt/datasets/Robocup_soccer/train', transform)\n",
    "valset = dsets.ImageFolder('/opt/datasets/Robocup_soccer/valid', transform)\n",
    "testset = dsets.ImageFolder('/opt/datasets/Robocup_soccer/test', transform)\n"
   ]
  },
  {
   "cell_type": "code",
   "execution_count": 4,
   "metadata": {},
   "outputs": [],
   "source": [
    "\n",
    "BATCH_SIZE = 16"
   ]
  },
  {
   "cell_type": "code",
   "execution_count": 5,
   "metadata": {},
   "outputs": [
    {
     "name": "stdout",
     "output_type": "stream",
     "text": [
      "1011\n"
     ]
    }
   ],
   "source": [
    "\n",
    "print(len(trainset))\n",
    "batch_size = 16\n",
    "\n",
    "torch.manual_seed(30)\n",
    "torch.cuda.manual_seed(30)\n",
    "np.random.seed(2)\n",
    "\n",
    "trainloader = utils_data.DataLoader(trainset, batch_size = batch_size, shuffle = True, num_workers=2)\n",
    "valloader = utils_data.DataLoader(valset, batch_size = batch_size, shuffle = True, num_workers=2)\n",
    "testloader = utils_data.DataLoader(testset, batch_size = batch_size, shuffle = True, num_workers=2)"
   ]
  },
  {
   "cell_type": "markdown",
   "metadata": {},
   "source": [
    "### Learning rate finder ###\n",
    "Implementation of LR Range test from \"Cyclical Learning Rates for Training Neural Networks\" by Leslie Smith. <br>\n",
    "\n",
    "num_iterations and stepsize are set to the same value to implement the LR range test."
   ]
  },
  {
   "cell_type": "code",
   "execution_count": 6,
   "metadata": {},
   "outputs": [
    {
     "data": {
      "text/plain": [
       "[<matplotlib.lines.Line2D at 0x7f7deb347ef0>]"
      ]
     },
     "execution_count": 6,
     "metadata": {},
     "output_type": "execute_result"
    },
    {
     "data": {
      "image/png": "[encoded data removed]",
      "text/plain": [
       "<Figure size 432x288 with 1 Axes>"
      ]
     },
     "metadata": {},
     "output_type": "display_data"
    }
   ],
   "source": [
    "def get_triangular_learning_rate(iteration, stepsize, base_lr,  max_lr):\n",
    "    \n",
    "    cycle = np.floor(1 + iteration/(2  * stepsize))\n",
    "    x = np.abs(iteration/stepsize - 2 * cycle + 1)\n",
    "    lr = base_lr + (max_lr - base_lr) * np.maximum(0, (1-x))\n",
    "    \n",
    "    return lr\n",
    "\n",
    "num_iterations = len(trainloader)  \n",
    "stepsize = len(trainloader)\n",
    "max_lr = 0.1     # max learning rate\n",
    "base_lr = 0.0001  # min learning rate\n",
    "lr_array = []\n",
    "\n",
    "for iteration in range(num_iterations):\n",
    "    \n",
    "    lr = get_triangular_learning_rate(iteration, stepsize, base_lr, max_lr)\n",
    "    lr_array.append(lr)\n",
    "\n",
    "\n",
    "fig = plt.figure()\n",
    "ax = fig.add_subplot(111)\n",
    "ax.set(title = 'LR plot', xlabel = 'iterations', ylabel = 'learning rate', yscale = 'log')\n",
    "ax.plot(lr_array)"
   ]
  },
  {
   "cell_type": "markdown",
   "metadata": {},
   "source": [
    "### Denoising Autoencoder ###"
   ]
  },
  {
   "cell_type": "markdown",
   "metadata": {},
   "source": [
    "A smaller model is used here because of limitations in GPU memory. The autoencoder is first trained and the weights of the autoencoder are saved in a separate .th file. Later a new kernel should be started and the pretrained encoder weights are loaded for performing the classification."
   ]
  },
  {
   "cell_type": "code",
   "execution_count": 7,
   "metadata": {},
   "outputs": [],
   "source": [
    "class Encoder(nn.Module):\n",
    "    \n",
    "    def __init__(self):\n",
    "        \n",
    "        super(Encoder, self).__init__()\n",
    "        \n",
    "        # Encoder\n",
    "        \n",
    "        self._layer1 = nn.Sequential(nn.Conv2d(3, 64, 3, 1, 1),\n",
    "                                     nn.BatchNorm2d(64),\n",
    "                                     nn.ReLU(),\n",
    "                                     nn.Conv2d(64, 64, 3, 1, 1),\n",
    "                                     nn.BatchNorm2d(64),\n",
    "                                     nn.ReLU(),\n",
    "                                     nn.MaxPool2d(2))\n",
    "        \n",
    "        \n",
    "        self._layer2 = nn.Sequential(nn.Conv2d(64, 128, 3, 1, 1),\n",
    "                                     nn.BatchNorm2d(128),\n",
    "                                     nn.ReLU(),\n",
    "                                     nn.Conv2d(128, 128, 3, 1, 1),\n",
    "                                     nn.BatchNorm2d(128),\n",
    "                                     nn.ReLU())\n",
    "\n",
    "                                     \n",
    "            \n",
    "        self._layer3 = nn.Sequential(nn.Conv2d(128, 256, 3, 1, 1),\n",
    "                                     nn.BatchNorm2d(256),\n",
    "                                     nn.ReLU(),\n",
    "                                     nn.Dropout2d(0.3),\n",
    "                                     nn.Conv2d(256, 256, 3, 1, 1),\n",
    "                                     nn.BatchNorm2d(256),\n",
    "                                     nn.ReLU(),\n",
    "                                     nn.MaxPool2d(2))\n",
    "                            \n",
    "\n",
    "        \n",
    "    def forward(self, x):\n",
    "         \n",
    "\n",
    "        x = self._layer1(x)\n",
    "        x = self._layer2(x)\n",
    "        x = self._layer3(x)\n",
    "\n",
    "        return x"
   ]
  },
  {
   "cell_type": "code",
   "execution_count": 8,
   "metadata": {},
   "outputs": [],
   "source": [
    "class Decoder(nn.Module):\n",
    "    \n",
    "    def __init__(self):\n",
    "        \n",
    "        super(Decoder, self).__init__()\n",
    "        \n",
    "        # Encoder\n",
    "        \n",
    "        \n",
    "        self._layer1 = nn.Sequential(nn.ConvTranspose2d(256, 256, 3, 2, 1, 1),\n",
    "                                     nn.BatchNorm2d(256),\n",
    "                                     nn.ReLU(),\n",
    "                                     nn.ConvTranspose2d(256, 128, 3, 1, 1),\n",
    "                                     nn.BatchNorm2d(128),\n",
    "                                     nn.ReLU())\n",
    "                                     \n",
    "                                     \n",
    "            \n",
    "        self._layer2 = nn.Sequential(nn.ConvTranspose2d(128, 64, 3, 2, 1, 1),\n",
    "                                     nn.BatchNorm2d(64),\n",
    "                                     nn.ReLU(),\n",
    "                                     nn.ConvTranspose2d(64, 64, 3, 1, 1),\n",
    "                                     nn.BatchNorm2d(64),\n",
    "                                     nn.ReLU())\n",
    "                            \n",
    "            \n",
    "        self._layer3 = nn.Sequential(nn.ConvTranspose2d(64, 3, 3, 1, 1),\n",
    "                                     nn.BatchNorm2d(3),\n",
    "                                     nn.ReLU())\n",
    "                                     \n",
    "        \n",
    "    def forward(self, x):\n",
    "\n",
    "        x = self._layer1(x)\n",
    "        x = self._layer2(x)\n",
    "        x = self._layer3(x)\n",
    "\n",
    "\n",
    "        return x"
   ]
  },
  {
   "cell_type": "code",
   "execution_count": 9,
   "metadata": {},
   "outputs": [],
   "source": [
    "def fit(encoder, decoder, optimizer, **kwargs):\n",
    "    \n",
    "\n",
    "    \n",
    "    torch.manual_seed(30)\n",
    "    torch.cuda.manual_seed(30)\n",
    "    np.random.seed(2)\n",
    "    \n",
    "    criterion = nn.MSELoss().to(cuda0)\n",
    "    \n",
    "    running_loss = 0\n",
    "    \n",
    "    noise_factor = 0.4\n",
    "    \n",
    "    batch_wise_loss = []\n",
    "    \n",
    "    for i, (images, labels) in enumerate(kwargs['dataloader']):\n",
    "        \n",
    "        # Adding random noise to images\n",
    "        noisy_images = images + noise_factor * torch.randn(images.size())\n",
    "        torch.clamp(noisy_images, 0, 1)\n",
    "        \n",
    "        \n",
    "        # Loading data to GPU\n",
    "        Noisy_images = noisy_images.to(cuda0)\n",
    "        Images = images.to(cuda0)\n",
    "        Labels = labels.to(cuda0)\n",
    "        \n",
    "        encoder_output = encoder(Noisy_images)\n",
    "        generated_images = decoder(encoder_output)\n",
    "        \n",
    "        loss = criterion(generated_images, Images)\n",
    "        \n",
    "        running_loss += loss.item()\n",
    "        \n",
    "        batch_wise_loss.append(loss.item())\n",
    "        \n",
    "        parameters = list(encoder.parameters())+ list(decoder.parameters())\n",
    "        \n",
    "        # Varying learning rate if lr_finder is used\n",
    "        if kwargs['lr_finder'] == True:\n",
    "            \n",
    "            optimizer = optim.Adam(parameters, lr = kwargs['lr_range_val'][i])\n",
    "            \n",
    "        \n",
    "        if kwargs['phase'] == 'Training':\n",
    "            #Backward\n",
    "            optimizer.zero_grad()\n",
    "            loss.backward()\n",
    "\n",
    "            #Update weights\n",
    "            optimizer.step()\n",
    "          \n",
    "    return running_loss/len(kwargs['dataloader']), batch_wise_loss"
   ]
  },
  {
   "cell_type": "code",
   "execution_count": null,
   "metadata": {},
   "outputs": [],
   "source": [
    "\n",
    "encoder = Encoder().to(cuda0)\n",
    "decoder = Decoder().to(cuda0)\n",
    "\n",
    "parameters = list(encoder.parameters())+ list(decoder.parameters())\n",
    "\n",
    "learning_rate = 0.001    # Dummy learning rate given before using lr finder\n",
    "\n",
    "optimizer = optim.Adam(parameters, lr = learning_rate)\n"
   ]
  },
  {
   "cell_type": "code",
   "execution_count": 10,
   "metadata": {},
   "outputs": [],
   "source": [
    "def lr_finder(lr_array, batchloss):\n",
    "    \n",
    "    fig1 = plt.figure()\n",
    "    ax1 = fig1.add_subplot(111)\n",
    "    ax1.set(title='lr finder', xlabel='learning rate', ylabel='loss', xscale='log')\n",
    "    ax1.plot(lr_array, batch_loss)"
   ]
  },
  {
   "cell_type": "code",
   "execution_count": null,
   "metadata": {},
   "outputs": [],
   "source": [
    "# Training the network for 1 epoch to find the optimal learning rate\n",
    "_, batch_loss = fit(encoder, decoder, optimizer, dataloader = trainloader,  phase = 'Training', lr_range_val = lr_array, lr_finder = True)  # Training set accuracy\n",
    "\n",
    "lr_finder(lr_array, batch_loss)"
   ]
  },
  {
   "cell_type": "code",
   "execution_count": null,
   "metadata": {},
   "outputs": [],
   "source": [
    "train_loss_values = []\n",
    "train_acc_values = []\n",
    "\n",
    "\n",
    "least_loss = 100\n",
    "\n",
    "learning_rate = 0.01    # Optimal learning rate using lr finder\n",
    "\n",
    "optimizer = optim.Adam(parameters, lr = learning_rate)\n",
    "scheduler = optim.lr_scheduler.ReduceLROnPlateau(optimizer, 'min', patience =1)\n",
    "\n",
    "for epoch in range(10):\n",
    "    \n",
    "    train_loss, _ = fit(encoder, decoder, optimizer, dataloader = trainloader,  phase = 'Training', lr_range_val = [], lr_finder = False)  # Training set accuracy\n",
    "    train_loss_values.append(train_loss)\n",
    "\n",
    "    \n",
    "    if train_loss < least_loss:\n",
    "        least_loss = train_loss\n",
    "        encoder_checkpoint = copy.deepcopy(encoder.state_dict())\n",
    "        decoder_checkpoint = copy.deepcopy(decoder.state_dict())\n",
    "        \n",
    "\n",
    "    print(f'Epoch: {epoch}   Train Loss: {train_loss:.5f} ')\n",
    "        \n",
    "    scheduler.step(train_loss)"
   ]
  },
  {
   "cell_type": "code",
   "execution_count": null,
   "metadata": {},
   "outputs": [],
   "source": [
    "dataiter = iter(testloader)\n",
    "images, labels = dataiter.next()\n",
    "\n",
    "def imshow(img):\n",
    "    img = img / 2 + 0.5     # unnormalize\n",
    "    plt.imshow(np.transpose(img.numpy(), (1,2,0) ))\n",
    "    \n",
    "# Plotting original image \n",
    "imshow(images[0])   \n",
    "plt.show()\n",
    "\n",
    "# Adding noise to images\n",
    "noisy_images = images + 0.1 * torch.randn(images.size())\n",
    "torch.clamp(noisy_images, 0, 1)\n",
    "\n",
    "# Plotting noisy image\n",
    "imshow(noisy_images[0])"
   ]
  },
  {
   "cell_type": "code",
   "execution_count": null,
   "metadata": {},
   "outputs": [],
   "source": [
    "print(noisy_images.size())\n",
    "encoded_image = encoder(noisy_images.to(cuda0))\n",
    "output = decoder(encoded_image)\n",
    "\n",
    "# Plotting output from autoencoder\n",
    "imshow(output[0].cpu().detach())"
   ]
  },
  {
   "cell_type": "markdown",
   "metadata": {},
   "source": [
    "### Classification using latent space ###\n",
    "For classification using the latent space, a new classifier model is built using the pre-trained encoder network with two additional fully connected layers added at the end to output the class labels. <br>\n",
    "The data is split into training and validation and the error is measured using the binary cross-entropy loss."
   ]
  },
  {
   "cell_type": "code",
   "execution_count": null,
   "metadata": {},
   "outputs": [],
   "source": [
    "\n",
    "encoder.load_state_dict(encoder_checkpoint) # Loading the trained weights for encoder\n",
    "torch.save(encoder.state_dict(), \"Pretrained_encoder.th\") # Saving the pretrained weights due to memory constraints\n"
   ]
  },
  {
   "cell_type": "code",
   "execution_count": 20,
   "metadata": {},
   "outputs": [],
   "source": [
    "class Classifier(nn.Module):\n",
    "    \n",
    "    \n",
    "    def __init__(self, pretrained_encoder):\n",
    "        \n",
    "        super(Classifier, self).__init__()\n",
    "        \n",
    "        self._encoder_model = pretrained_encoder\n",
    "\n",
    "        self._output_layer = nn.Sequential(nn.Conv2d(256, 64, 3, 1, 1),\n",
    "                                     nn.BatchNorm2d(64),\n",
    "                                     nn.ReLU(),\n",
    "                                     nn.Dropout2d(0.3),\n",
    "#                                      nn.Conv2d(128, 64, 3, 1, 1),\n",
    "#                                      nn.BatchNorm2d(64),\n",
    "#                                      nn.ReLU(),\n",
    "                                     nn.Conv2d(64, 2, 3, 1, 1),\n",
    "                                     nn.BatchNorm2d(2),\n",
    "                                     nn.ReLU())\n",
    "        \n",
    "        \n",
    "    def forward(self, x):\n",
    "        \n",
    "        x = self._encoder_model(x)\n",
    "        \n",
    "        x = self._output_layer(x)\n",
    "        x = F.adaptive_avg_pool2d(x, (1,1))\n",
    "        \n",
    "        return x.squeeze()"
   ]
  },
  {
   "cell_type": "code",
   "execution_count": 21,
   "metadata": {},
   "outputs": [],
   "source": [
    "def train(encoder_classifier, optimizer, **kwargs):\n",
    "    \n",
    "    if kwargs['phase'] == 'Training':\n",
    "        encoder_classifier.train()\n",
    "        \n",
    "    if kwargs['phase'] == 'Validation':\n",
    "        encoder_classifier.eval()\n",
    "     \n",
    "    \n",
    "    criterion = nn.CrossEntropyLoss().to(cuda0)\n",
    "    \n",
    "    running_loss = 0\n",
    "    running_pred = 0\n",
    "    \n",
    "    batch_wise_loss = []\n",
    "    \n",
    "    for i, (images, labels) in enumerate(kwargs['dataloader']):\n",
    "        \n",
    "        \n",
    "        Images = images.to(cuda0)\n",
    "        Labels = labels.to(cuda0)\n",
    "        \n",
    "        y_pred = encoder_classifier(Images)\n",
    "        Labels = Labels\n",
    "        \n",
    "        loss = criterion(y_pred, Labels)\n",
    "        \n",
    "        running_loss += loss.item()\n",
    "        \n",
    "        batch_wise_loss.append(loss.item())\n",
    "        \n",
    "        # Varying learning rate if lr_finder is used\n",
    "        if kwargs['lr_finder'] == True:\n",
    "            \n",
    "            optimizer = optim.Adam(encoder_classifier.parameters(), lr = kwargs['lr_range_val'][i])\n",
    "            \n",
    "        \n",
    "        if kwargs['phase'] == 'Training':\n",
    "            \n",
    "            #Backward\n",
    "            optimizer.zero_grad()\n",
    "            loss.backward()\n",
    "\n",
    "            #Update weights\n",
    "            optimizer.step()\n",
    "            \n",
    "            \n",
    "        # Finding the number of correct predictions in the training set\n",
    "        _, pred_class = torch.max(y_pred.data, 1)\n",
    "\n",
    "        running_pred += (pred_class.cpu() == Labels.data.cpu()).sum()\n",
    "\n",
    "\n",
    "    acc = 100. * (running_pred.numpy()/len(kwargs['dataloader'].sampler))\n",
    "          \n",
    "    return running_loss/len(kwargs['dataloader']), acc, batch_wise_loss"
   ]
  },
  {
   "cell_type": "code",
   "execution_count": 22,
   "metadata": {},
   "outputs": [],
   "source": [
    "\n",
    "pretrained_encoder_weights = torch.load(\"Pretrained_encoder.th\")\n",
    "pretrained_encoder = Encoder()\n",
    "pretrained_encoder.load_state_dict(pretrained_encoder_weights)\n",
    "encoder_classifier = Classifier(pretrained_encoder).to(cuda0)\n",
    "\n",
    "learning_rate = 0.001\n",
    "\n",
    "optimizer = optim.Adam(encoder_classifier.parameters(), lr = learning_rate)"
   ]
  },
  {
   "cell_type": "code",
   "execution_count": 23,
   "metadata": {},
   "outputs": [
    {
     "data": {
      "image/png": "[encoded data removed]",
      "text/plain": [
       "<Figure size 432x288 with 1 Axes>"
      ]
     },
     "metadata": {},
     "output_type": "display_data"
    }
   ],
   "source": [
    "# Using lr finder to find the optimal learning rate for the fc layers\n",
    "_, _, batch_loss = train(encoder_classifier, optimizer, dataloader = trainloader,  phase = 'Training', lr_range_val = lr_array, lr_finder = True)  # Training set accuracy\n",
    "lr_finder(lr_array, batch_loss)"
   ]
  },
  {
   "cell_type": "code",
   "execution_count": 25,
   "metadata": {},
   "outputs": [
    {
     "name": "stdout",
     "output_type": "stream",
     "text": [
      "Epoch: 0  Train Loss: 0.68595  Train Acc:54.99505%    Val Loss: 0.69760  Val Acc:51.00000% \n",
      "Epoch: 2  Train Loss: 0.68884  Train Acc:54.20376%    Val Loss: 0.68510  Val Acc:54.00000% \n",
      "Epoch: 4  Train Loss: 0.68843  Train Acc:53.31355%    Val Loss: 0.69302  Val Acc:52.00000% \n",
      "Epoch: 6  Train Loss: 0.68531  Train Acc:55.68744%    Val Loss: 0.68343  Val Acc:54.00000% \n",
      "Epoch: 8  Train Loss: 0.68594  Train Acc:56.37982%    Val Loss: 0.68793  Val Acc:52.00000% \n",
      "Epoch: 10  Train Loss: 0.68890  Train Acc:52.42334%    Val Loss: 0.68712  Val Acc:54.00000% \n",
      "Epoch: 12  Train Loss: 0.68682  Train Acc:55.29179%    Val Loss: 0.69846  Val Acc:53.00000% \n",
      "Epoch: 14  Train Loss: 0.68565  Train Acc:55.39070%    Val Loss: 0.68963  Val Acc:52.00000% \n",
      "Epoch: 16  Train Loss: 0.68612  Train Acc:56.28091%    Val Loss: 0.68912  Val Acc:54.00000% \n",
      "Epoch: 18  Train Loss: 0.68796  Train Acc:55.68744%    Val Loss: 0.69129  Val Acc:52.00000% \n",
      "Epoch: 20  Train Loss: 0.68821  Train Acc:55.58853%    Val Loss: 0.70338  Val Acc:55.00000% \n",
      "Epoch: 22  Train Loss: 0.68885  Train Acc:53.70920%    Val Loss: 0.68707  Val Acc:55.00000% \n",
      "Epoch: 24  Train Loss: 0.68615  Train Acc:54.99505%    Val Loss: 0.69501  Val Acc:52.00000% \n",
      "Epoch: 26  Train Loss: 0.68872  Train Acc:54.30267%    Val Loss: 0.69191  Val Acc:57.00000% \n",
      "Epoch: 28  Train Loss: 0.68604  Train Acc:54.89614%    Val Loss: 0.69150  Val Acc:53.00000% \n",
      "Epoch: 30  Train Loss: 0.68514  Train Acc:54.89614%    Val Loss: 0.68747  Val Acc:52.00000% \n",
      "Epoch: 32  Train Loss: 0.68581  Train Acc:54.99505%    Val Loss: 0.68687  Val Acc:54.00000% \n",
      "Epoch: 34  Train Loss: 0.68481  Train Acc:57.56677%    Val Loss: 0.69050  Val Acc:52.00000% \n",
      "Epoch: 36  Train Loss: 0.68665  Train Acc:55.29179%    Val Loss: 0.68443  Val Acc:55.00000% \n",
      "Epoch: 38  Train Loss: 0.68784  Train Acc:53.61029%    Val Loss: 0.68980  Val Acc:53.00000% \n"
     ]
    }
   ],
   "source": [
    "train_loss_values = []\n",
    "train_acc_values = []\n",
    "\n",
    "val_loss_values = []\n",
    "val_acc_values = []\n",
    "\n",
    "best_acc = 0\n",
    "\n",
    "learning_rate = 0.001    # Optimal learning rate using lr finder\n",
    "\n",
    "optimizer = optim.Adam(encoder_classifier._output_layer.parameters(), lr = learning_rate)\n",
    "scheduler = optim.lr_scheduler.ReduceLROnPlateau(optimizer, 'min', patience =1)\n",
    "\n",
    "for epoch in range(40):   \n",
    "    \n",
    "    train_loss, train_acc, _ = train(encoder_classifier, optimizer, dataloader = trainloader,  phase = 'Training', lr_range_val = [], lr_finder = False)  # Training set accuracy\n",
    "    train_loss_values.append(train_loss)\n",
    "    train_acc_values.append(train_acc)\n",
    "\n",
    "    val_loss, val_acc, _ = train(encoder_classifier, optimizer, dataloader = valloader,  phase = 'Validation', lr_range_val = [], lr_finder = False)  # Training set accuracy\n",
    "    val_loss_values.append(val_loss)\n",
    "    val_acc_values.append(val_acc)\n",
    "    \n",
    "    if val_acc > best_acc:\n",
    "        best_acc = val_acc\n",
    "        classifier_model_checkpoint = copy.deepcopy(encoder_classifier.state_dict())\n",
    "        \n",
    "    \n",
    "    scheduler.step(val_loss)\n",
    "    \n",
    "    if epoch % 2 == 0:\n",
    "        print(f'Epoch: {epoch}  Train Loss: {train_loss:.5f}  Train Acc:{train_acc:.5f}%\\\n",
    "    Val Loss: {val_loss:.5f}  Val Acc:{val_acc:.5f}% ')\n"
   ]
  },
  {
   "cell_type": "code",
   "execution_count": 26,
   "metadata": {},
   "outputs": [],
   "source": [
    "# Function to get predictions for test data and the accuracy on it\n",
    "def predict(model, testloader):\n",
    "    \n",
    "    model.eval()\n",
    "    pred_val = 0\n",
    "    prediction_array = np.array([])\n",
    "    labels_array = np.array([])\n",
    "    \n",
    "    for images, labels in testloader:\n",
    "        \n",
    "\n",
    "        # Feeding data to GPU \n",
    "        \n",
    "        Images = images.to(cuda0)\n",
    "        Labels = labels.to(cuda0)\n",
    "\n",
    "\n",
    "        #Forward\n",
    "        pred = model(Images)\n",
    "        \n",
    "        # Finding the number of correct predictions in the training set\n",
    "        _, pred_label = torch.max(pred.data, 1)\n",
    "\n",
    "        pred_val += (pred_label.cpu() == Labels.data.cpu()).sum()\n",
    "        \n",
    "        # Storing predictions and true labels in numpy arrays for printing confusion matrix\n",
    "        prediction_array = np.append(prediction_array, pred_label.cpu().numpy(), axis =0)\n",
    "        labels_array = np.append(labels_array, Labels.data.cpu().numpy(), axis = 0)\n",
    "\n",
    "\n",
    "    Test_acc = 100. * (pred_val.numpy()/len(testloader.dataset))\n",
    "    return Test_acc, prediction_array, labels_array\n",
    "    "
   ]
  },
  {
   "cell_type": "code",
   "execution_count": 27,
   "metadata": {},
   "outputs": [],
   "source": [
    "encoder_classifier.load_state_dict(classifier_model_checkpoint)\n",
    "torch.save(encoder_classifier.state_dict(), \"CAE_soccer_model.th\")"
   ]
  },
  {
   "cell_type": "code",
   "execution_count": 28,
   "metadata": {},
   "outputs": [
    {
     "name": "stdout",
     "output_type": "stream",
     "text": [
      "Test Accuracy:58.33333% \n"
     ]
    }
   ],
   "source": [
    "Test_acc, Predictions, True_labels = predict(encoder_classifier, testloader) # Test set accuracy\n",
    "\n",
    "print(f'Test Accuracy:{Test_acc:.5f}% ')"
   ]
  },
  {
   "cell_type": "code",
   "execution_count": 29,
   "metadata": {},
   "outputs": [
    {
     "name": "stdout",
     "output_type": "stream",
     "text": [
      "[[69 34]\n",
      " [51 50]]\n"
     ]
    }
   ],
   "source": [
    "#Confusion matrix\n",
    "from sklearn.metrics import confusion_matrix\n",
    "cm = confusion_matrix(True_labels, Predictions)\n",
    "print(cm)"
   ]
  },
  {
   "cell_type": "code",
   "execution_count": 30,
   "metadata": {},
   "outputs": [
    {
     "name": "stdout",
     "output_type": "stream",
     "text": [
      "['with_ball', 'without_ball']\n"
     ]
    },
    {
     "data": {
      "image/png": "[encoded data removed]",
      "text/plain": [
       "<Figure size 576x576 with 2 Axes>"
      ]
     },
     "metadata": {},
     "output_type": "display_data"
    }
   ],
   "source": [
    "# Plotting confusion matrix\n",
    "import itertools\n",
    "def plot_confusion_matrix(cm, classes):\n",
    "    \n",
    "    cmap = plt.get_cmap('Greens')\n",
    "    plt.figure(figsize=(8,8))\n",
    "    plt.imshow(cm, cmap = cmap, interpolation = 'nearest')\n",
    "    plt.colorbar()\n",
    "    \n",
    "    tick_marks = np.arange(len(classes))\n",
    "    plt.xticks(tick_marks, classes)\n",
    "    plt.yticks(tick_marks, classes)\n",
    "    print(classes)\n",
    "    plt.xlabel(\"Predicted Values\")\n",
    "    plt.ylabel(\"True Values\")\n",
    "    \n",
    "    threshold = cm.max()/2\n",
    "    \n",
    "    for i, j in itertools.product(range(cm.shape[0]), range(cm.shape[1])):\n",
    "        \n",
    "        plt.text(i, j, f'{cm[i, j]}' , horizontalalignment = 'center', \n",
    "                 color=\"white\" if cm[i, j] < threshold else \"black\")\n",
    "\n",
    "plot_confusion_matrix(cm.T, ['with_ball', 'without_ball'])"
   ]
  },
  {
   "cell_type": "code",
   "execution_count": null,
   "metadata": {},
   "outputs": [],
   "source": []
  }
 ],
 "metadata": {
  "kernelspec": {
   "display_name": "Python 3",
   "language": "python",
   "name": "python3"
  },
  "language_info": {
   "codemirror_mode": {
    "name": "ipython",
    "version": 3
   },
   "file_extension": ".py",
   "mimetype": "text/x-python",
   "name": "python",
   "nbconvert_exporter": "python",
   "pygments_lexer": "ipython3",
   "version": "3.6.5"
  }
 },
 "nbformat": 4,
 "nbformat_minor": 2
}
