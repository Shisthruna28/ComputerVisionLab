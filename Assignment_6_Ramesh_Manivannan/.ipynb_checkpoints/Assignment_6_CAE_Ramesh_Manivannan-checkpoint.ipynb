{
 "cells": [
  {
   "cell_type": "markdown",
   "metadata": {},
   "source": [
    "### Convolutional Autoencoder on CIFAR10 ###\n",
    "1.Iswariya Manivannan<br>\n",
    "2.Sathiya Ramesh"
   ]
  },
  {
   "cell_type": "code",
   "execution_count": 1,
   "metadata": {},
   "outputs": [],
   "source": [
    "import torch\n",
    "import torch.nn as nn\n",
    "import torch.optim as optim\n",
    "import torch.nn.functional as F\n",
    "import copy\n",
    "\n",
    "import torchvision\n",
    "import torchvision.datasets as dsets\n",
    "import torchvision.transforms as transforms\n",
    "import torchvision.models as models\n",
    "import torch.utils.data as utils_data\n",
    "from torch.utils.data.sampler import SubsetRandomSampler\n",
    "\n",
    "%matplotlib inline\n",
    "import matplotlib.pyplot as plt \n",
    "import numpy as np"
   ]
  },
  {
   "cell_type": "code",
   "execution_count": 2,
   "metadata": {},
   "outputs": [
    {
     "name": "stdout",
     "output_type": "stream",
     "text": [
      "cuda:1\n",
      "True\n"
     ]
    }
   ],
   "source": [
    "cuda0 = torch.device('cuda' if torch.cuda.is_available() else 'cpu')\n",
    "print(cuda0)\n",
    "print(torch.cuda.is_available())"
   ]
  },
  {
   "cell_type": "code",
   "execution_count": 3,
   "metadata": {},
   "outputs": [
    {
     "name": "stdout",
     "output_type": "stream",
     "text": [
      "Files already downloaded and verified\n",
      "Files already downloaded and verified\n"
     ]
    }
   ],
   "source": [
    "transform = transforms.Compose([transforms.ToTensor(),transforms.Normalize((0.5, 0.5, 0.5), (0.5, 0.5, 0.5))])\n",
    "\n",
    "trainset = dsets.CIFAR10('/opt/datasets/cifar10', train=True, download=True, transform=transform)\n",
    "testset = dsets.CIFAR10('/opt/datasets/cifar10', train=False, download=True, transform=transform)"
   ]
  },
  {
   "cell_type": "code",
   "execution_count": 4,
   "metadata": {},
   "outputs": [],
   "source": [
    "EPOCHS = 10\n",
    "BATCH_SIZE = 64"
   ]
  },
  {
   "cell_type": "code",
   "execution_count": 5,
   "metadata": {},
   "outputs": [],
   "source": [
    "# Implementation of Validation split using SubsetRandomSampler in Pytorch\n",
    "\n",
    "torch.manual_seed(40)\n",
    "torch.cuda.manual_seed(40)\n",
    "np.random.seed(2)\n",
    "\n",
    "train_set_size = int(0.8 * len(trainset))    # Train set - Val set split is 80% - 20%\n",
    "train_indices = np.random.choice(np.arange(len(trainset)), train_set_size, replace = False)  # Getting the random 80% of train data from train set\n",
    "train_sampler = SubsetRandomSampler(train_indices)\n",
    "\n",
    "# Getting the 20% val data not present in train indices\n",
    "val_indices = np.setdiff1d(np.arange(len(trainset)), train_indices, assume_unique= True)\n",
    "val_sampler = SubsetRandomSampler(val_indices)\n",
    "#print(np.any(np.isin(train_indices, val_indices)))\n",
    "\n",
    "trainloader = utils_data.DataLoader(trainset, batch_size = BATCH_SIZE, sampler=train_sampler, num_workers=2)\n",
    "valloader = utils_data.DataLoader(trainset, batch_size = BATCH_SIZE, sampler=val_sampler, num_workers=2)\n",
    "testloader = utils_data.DataLoader(testset, batch_size = BATCH_SIZE, shuffle = True, num_workers=2)"
   ]
  },
  {
   "cell_type": "markdown",
   "metadata": {},
   "source": [
    "### Learning rate finder ###\n",
    "Implementation of LR Range test from \"Cyclical Learning Rates for Training Neural Networks\" by Leslie Smith. <br>\n",
    "\n",
    "num_iterations and stepsize are set to the same value to implement the LR range test."
   ]
  },
  {
   "cell_type": "code",
   "execution_count": 6,
   "metadata": {},
   "outputs": [
    {
     "data": {
      "text/plain": [
       "[<matplotlib.lines.Line2D at 0x7fe796151da0>]"
      ]
     },
     "execution_count": 6,
     "metadata": {},
     "output_type": "execute_result"
    },
    {
     "data": {
      "image/png": "[encoded data removed]",
      "text/plain": [
       "<Figure size 432x288 with 1 Axes>"
      ]
     },
     "metadata": {},
     "output_type": "display_data"
    }
   ],
   "source": [
    "def get_triangular_learning_rate(iteration, stepsize, base_lr,  max_lr):\n",
    "    \n",
    "    cycle = np.floor(1 + iteration/(2  * stepsize))\n",
    "    x = np.abs(iteration/stepsize - 2 * cycle + 1)\n",
    "    lr = base_lr + (max_lr - base_lr) * np.maximum(0, (1-x))\n",
    "    \n",
    "    return lr\n",
    "\n",
    "num_iterations = len(trainloader)  \n",
    "stepsize = len(trainloader)\n",
    "max_lr = 0.1     # max learning rate\n",
    "base_lr = 0.0001  # min learning rate\n",
    "lr_array = []\n",
    "\n",
    "for iteration in range(num_iterations):\n",
    "    \n",
    "    lr = get_triangular_learning_rate(iteration, stepsize, base_lr, max_lr)\n",
    "    lr_array.append(lr)\n",
    "\n",
    "\n",
    "fig = plt.figure()\n",
    "ax = fig.add_subplot(111)\n",
    "ax.set(title = 'LR plot', xlabel = 'iterations', ylabel = 'learning rate', yscale = 'log')\n",
    "ax.plot(lr_array)"
   ]
  },
  {
   "cell_type": "markdown",
   "metadata": {},
   "source": [
    "### Denoising Autoencoder ###"
   ]
  },
  {
   "cell_type": "code",
   "execution_count": 7,
   "metadata": {},
   "outputs": [],
   "source": [
    "class Encoder(nn.Module):\n",
    "    \n",
    "    def __init__(self):\n",
    "        \n",
    "        super(Encoder, self).__init__()\n",
    "        \n",
    "        # Encoder\n",
    "        \n",
    "        self._layer1 = nn.Sequential(nn.Conv2d(3, 64, 3, 1, 1),\n",
    "                                     nn.BatchNorm2d(64),\n",
    "                                     nn.ReLU(),\n",
    "                                     nn.Dropout2d(0.3),\n",
    "                                     nn.Conv2d(64, 64, 3, 1, 1),\n",
    "                                     nn.BatchNorm2d(64),\n",
    "                                     nn.ReLU(),\n",
    "                                     nn.MaxPool2d(2))\n",
    "        \n",
    "        \n",
    "        self._layer2 = nn.Sequential(nn.Conv2d(64, 128, 3, 1, 1),\n",
    "                                     nn.BatchNorm2d(128),\n",
    "                                     nn.ReLU(),\n",
    "                                     nn.Dropout2d(0.3),\n",
    "                                     nn.Conv2d(128, 128, 3, 1, 1),\n",
    "                                     nn.BatchNorm2d(128),\n",
    "                                     nn.ReLU(),\n",
    "                                     nn.MaxPool2d(2))\n",
    "                                     \n",
    "            \n",
    "        self._layer3 = nn.Sequential(nn.Conv2d(128, 256, 3, 1, 1),\n",
    "                                     nn.BatchNorm2d(256),\n",
    "                                     nn.ReLU(),\n",
    "                                     nn.Dropout2d(0.3),\n",
    "                                     nn.Conv2d(256, 256, 3, 1, 1),\n",
    "                                     nn.BatchNorm2d(256),\n",
    "                                     nn.ReLU())\n",
    "                            \n",
    "            \n",
    "        self._layer4 = nn.Sequential(nn.Conv2d(256, 512, 3, 1, 1),\n",
    "                                     nn.BatchNorm2d(512),\n",
    "                                     nn.ReLU(),\n",
    "                                     nn.Dropout2d(0.3),\n",
    "                                     nn.Conv2d(512, 512, 3, 1, 1),\n",
    "                                     nn.BatchNorm2d(512),\n",
    "                                     nn.ReLU(),\n",
    "                                     nn.MaxPool2d(2))\n",
    "        \n",
    "    def forward(self, x):\n",
    "                                   \n",
    "        x = self._layer1(x)\n",
    "        x = self._layer2(x)\n",
    "        x = self._layer3(x)\n",
    "        x = self._layer4(x)\n",
    "\n",
    "        return x"
   ]
  },
  {
   "cell_type": "code",
   "execution_count": 8,
   "metadata": {},
   "outputs": [],
   "source": [
    "class Decoder(nn.Module):\n",
    "    \n",
    "    def __init__(self):\n",
    "        \n",
    "        super(Decoder, self).__init__()\n",
    "        \n",
    "        # Decoder\n",
    "        \n",
    "        self._layer1 = nn.Sequential(nn.ConvTranspose2d(512, 256, 3, 2, 1, 1),\n",
    "                                     nn.BatchNorm2d(256),\n",
    "                                     nn.ReLU(),\n",
    "                                     nn.Dropout2d(0.3),\n",
    "                                     nn.ConvTranspose2d(256, 256, 3, 1, 1),\n",
    "                                     nn.BatchNorm2d(256),\n",
    "                                     nn.ReLU())\n",
    "        \n",
    "        self._layer2 = nn.Sequential(nn.ConvTranspose2d(256, 128, 3, 2, 1, 1),\n",
    "                                     nn.BatchNorm2d(128),\n",
    "                                     nn.ReLU(),\n",
    "                                     nn.Dropout2d(0.3),\n",
    "                                     nn.ConvTranspose2d(128, 128, 3, 1, 1),\n",
    "                                     nn.BatchNorm2d(128),\n",
    "                                     nn.ReLU())\n",
    "                                     \n",
    "                                     \n",
    "            \n",
    "        self._layer3 = nn.Sequential(nn.ConvTranspose2d(128, 64, 3, 2, 1, 1),\n",
    "                                     nn.BatchNorm2d(64),\n",
    "                                     nn.ReLU(),\n",
    "                                     nn.Dropout2d(0.3),\n",
    "                                     nn.ConvTranspose2d(64, 64, 3, 1, 1),\n",
    "                                     nn.BatchNorm2d(64),\n",
    "                                     nn.ReLU())\n",
    "                            \n",
    "            \n",
    "        self._layer4 = nn.Sequential(nn.ConvTranspose2d(64, 3, 3, 1, 1),\n",
    "                                     nn.BatchNorm2d(3),\n",
    "                                     nn.ReLU())\n",
    "                                     \n",
    "        \n",
    "    def forward(self, x):\n",
    "\n",
    "        x = self._layer1(x)\n",
    "        x = self._layer2(x)\n",
    "        x = self._layer3(x)\n",
    "        x = self._layer4(x)\n",
    "\n",
    "        return x"
   ]
  },
  {
   "cell_type": "code",
   "execution_count": 9,
   "metadata": {},
   "outputs": [],
   "source": [
    "def fit(encoder, decoder, optimizer, **kwargs):\n",
    "    \n",
    "\n",
    "    \n",
    "    torch.manual_seed(40)\n",
    "    torch.cuda.manual_seed(40)\n",
    "    \n",
    "    criterion = nn.MSELoss().to(cuda0)\n",
    "    \n",
    "    running_loss = 0\n",
    "    \n",
    "    noise_factor = 0.1\n",
    "    \n",
    "    batch_wise_loss = []\n",
    "    \n",
    "    for i, (images, labels) in enumerate(kwargs['dataloader']):\n",
    "        \n",
    "        # Adding random noise to images\n",
    "        noisy_images = images + noise_factor * torch.randn(images.size())\n",
    "        torch.clamp(noisy_images, 0, 1)\n",
    "        \n",
    "        \n",
    "        # Loading data to GPU\n",
    "        Noisy_images = noisy_images.to(cuda0)\n",
    "        Images = images.to(cuda0)\n",
    "        Labels = labels.to(cuda0)\n",
    "        \n",
    "        encoder_output = encoder(Noisy_images)\n",
    "        generated_images = decoder(encoder_output)\n",
    "        \n",
    "        loss = criterion(generated_images, Images)\n",
    "        \n",
    "        running_loss += loss.item()\n",
    "        \n",
    "        batch_wise_loss.append(loss.item())\n",
    "        \n",
    "        parameters = list(encoder.parameters())+ list(decoder.parameters())\n",
    "        \n",
    "        # Varying learning rate if lr_finder is used\n",
    "        if kwargs['lr_finder'] == True:\n",
    "            \n",
    "            optimizer = optim.Adam(parameters, lr = kwargs['lr_range_val'][i])\n",
    "            \n",
    "        \n",
    "        if kwargs['phase'] == 'Training':\n",
    "            #Backward\n",
    "            optimizer.zero_grad()\n",
    "            loss.backward()\n",
    "\n",
    "            #Update weights\n",
    "            optimizer.step()\n",
    "          \n",
    "    return running_loss/len(kwargs['dataloader']), batch_wise_loss"
   ]
  },
  {
   "cell_type": "code",
   "execution_count": 10,
   "metadata": {},
   "outputs": [],
   "source": [
    "\n",
    "encoder = Encoder().to(cuda0)\n",
    "decoder = Decoder().to(cuda0)\n",
    "\n",
    "parameters = list(encoder.parameters())+ list(decoder.parameters())\n",
    "\n",
    "learning_rate = 0.001    # Dummy learning rate given before using lr finder\n",
    "\n",
    "optimizer = optim.Adam(parameters, lr = learning_rate)\n"
   ]
  },
  {
   "cell_type": "code",
   "execution_count": 11,
   "metadata": {},
   "outputs": [],
   "source": [
    "def lr_finder(lr_array, batchloss):\n",
    "    \n",
    "    fig1 = plt.figure()\n",
    "    ax1 = fig1.add_subplot(111)\n",
    "    ax1.set(title='lr finder', xlabel='learning rate', ylabel='loss', xscale='log')\n",
    "    ax1.plot(lr_array, batch_loss)"
   ]
  },
  {
   "cell_type": "code",
   "execution_count": 12,
   "metadata": {},
   "outputs": [
    {
     "data": {
      "image/png": "[encoded data removed]",
      "text/plain": [
       "<Figure size 432x288 with 1 Axes>"
      ]
     },
     "metadata": {},
     "output_type": "display_data"
    }
   ],
   "source": [
    "# Training the network for 1 epoch to find the optimal learning rate\n",
    "_, batch_loss = fit(encoder, decoder, optimizer, dataloader = trainloader,  phase = 'Training', lr_range_val = lr_array, lr_finder = True)  # Training set accuracy\n",
    "\n",
    "lr_finder(lr_array, batch_loss)"
   ]
  },
  {
   "cell_type": "code",
   "execution_count": 12,
   "metadata": {},
   "outputs": [
    {
     "name": "stdout",
     "output_type": "stream",
     "text": [
      "Epoch: 0   Train Loss: 0.17662 \n",
      "Epoch: 1   Train Loss: 0.15886 \n",
      "Epoch: 2   Train Loss: 0.15483 \n",
      "Epoch: 3   Train Loss: 0.15242 \n",
      "Epoch: 4   Train Loss: 0.15117 \n",
      "Epoch: 5   Train Loss: 0.15041 \n",
      "Epoch: 6   Train Loss: 0.15003 \n",
      "Epoch: 7   Train Loss: 0.14972 \n",
      "Epoch: 8   Train Loss: 0.14934 \n",
      "Epoch: 9   Train Loss: 0.14898 \n",
      "Epoch: 10   Train Loss: 0.14873 \n",
      "Epoch: 11   Train Loss: 0.14865 \n",
      "Epoch: 12   Train Loss: 0.14834 \n",
      "Epoch: 13   Train Loss: 0.14825 \n",
      "Epoch: 14   Train Loss: 0.14823 \n",
      "Epoch: 15   Train Loss: 0.14803 \n",
      "Epoch: 16   Train Loss: 0.14790 \n",
      "Epoch: 17   Train Loss: 0.14773 \n",
      "Epoch: 18   Train Loss: 0.14756 \n",
      "Epoch: 19   Train Loss: 0.14746 \n",
      "Epoch: 20   Train Loss: 0.14729 \n",
      "Epoch: 21   Train Loss: 0.14707 \n",
      "Epoch: 22   Train Loss: 0.14698 \n",
      "Epoch: 23   Train Loss: 0.14692 \n",
      "Epoch: 24   Train Loss: 0.14682 \n"
     ]
    }
   ],
   "source": [
    "train_loss_values = []\n",
    "train_acc_values = []\n",
    "\n",
    "\n",
    "least_loss = 100\n",
    "\n",
    "learning_rate = 0.01    # Optimal learning rate using lr finder\n",
    "\n",
    "optimizer = optim.Adam(parameters, lr = learning_rate)\n",
    "scheduler = optim.lr_scheduler.ReduceLROnPlateau(optimizer, 'min', patience =1)\n",
    "\n",
    "for epoch in range(25):\n",
    "    \n",
    "    train_loss, _ = fit(encoder, decoder, optimizer, dataloader = trainloader,  phase = 'Training', lr_range_val = [], lr_finder = False)  # Training set accuracy\n",
    "    train_loss_values.append(train_loss)\n",
    "\n",
    "    \n",
    "    if train_loss < least_loss:\n",
    "        least_loss = train_loss\n",
    "        encoder_checkpoint = copy.deepcopy(encoder.state_dict())\n",
    "        decoder_checkpoint = copy.deepcopy(decoder.state_dict())\n",
    "        \n",
    "    #if epoch % 5 ==0:\n",
    "    print(f'Epoch: {epoch}   Train Loss: {train_loss:.5f} ')\n",
    "        \n",
    "    scheduler.step(train_loss)"
   ]
  },
  {
   "cell_type": "code",
   "execution_count": 13,
   "metadata": {},
   "outputs": [
    {
     "data": {
      "image/png": "[encoded data removed]",
      "text/plain": [
       "<Figure size 432x288 with 1 Axes>"
      ]
     },
     "metadata": {},
     "output_type": "display_data"
    },
    {
     "data": {
      "image/png": "[encoded data removed]",
      "text/plain": [
       "<Figure size 432x288 with 1 Axes>"
      ]
     },
     "metadata": {},
     "output_type": "display_data"
    }
   ],
   "source": [
    "dataiter = iter(testloader)\n",
    "images, labels = dataiter.next()\n",
    "\n",
    "def imshow(img):\n",
    "    img = img / 2 + 0.5     # unnormalize\n",
    "    plt.imshow(np.transpose(img.numpy(), (1,2,0) ))\n",
    "    \n",
    "# Plotting original image \n",
    "imshow(images[0])   \n",
    "plt.show()\n",
    "\n",
    "# Adding noise to images\n",
    "noisy_images = images + 0.1 * torch.randn(images.size())\n",
    "torch.clamp(noisy_images, 0, 1)\n",
    "\n",
    "# Plotting noisy image\n",
    "imshow(noisy_images[0])"
   ]
  },
  {
   "cell_type": "code",
   "execution_count": 14,
   "metadata": {},
   "outputs": [
    {
     "name": "stdout",
     "output_type": "stream",
     "text": [
      "torch.Size([64, 3, 32, 32])\n"
     ]
    },
    {
     "data": {
      "image/png": "[encoded data removed]",
      "text/plain": [
       "<Figure size 432x288 with 1 Axes>"
      ]
     },
     "metadata": {},
     "output_type": "display_data"
    }
   ],
   "source": [
    "print(noisy_images.size())\n",
    "encoded_image = encoder(noisy_images.to(cuda0))\n",
    "output = decoder(encoded_image)\n",
    "\n",
    "# Plotting output from autoencoder\n",
    "imshow(output[0].cpu().detach())"
   ]
  },
  {
   "cell_type": "markdown",
   "metadata": {},
   "source": [
    "### Classification using latent space ###\n",
    "For classification using the latent space, a new classifier model is built using the pre-trained encoder network with additional conv layers and global average pooling added at the end to output the class labels. <br>\n",
    "The data is split into training and validation and the error is measured using the binary cross-entropy loss."
   ]
  },
  {
   "cell_type": "code",
   "execution_count": 15,
   "metadata": {},
   "outputs": [],
   "source": [
    "pretrained_encoder = Encoder()\n",
    "pretrained_encoder.load_state_dict(encoder_checkpoint) # Loading the trained weights for encoder\n"
   ]
  },
  {
   "cell_type": "code",
   "execution_count": 16,
   "metadata": {},
   "outputs": [],
   "source": [
    "class Classifier(nn.Module):\n",
    "    \n",
    "    \n",
    "    def __init__(self, pretrained_encoder):\n",
    "        \n",
    "        super(Classifier, self).__init__()\n",
    "        \n",
    "        self._encoder_model = pretrained_encoder\n",
    "        \n",
    "        self._output_layer = nn.Sequential(nn.Conv2d(512, 256, 3, 1, 1),\n",
    "                                     nn.BatchNorm2d(256),\n",
    "                                     nn.ReLU(),\n",
    "                                     nn.Dropout2d(0.3),\n",
    "                                     nn.Conv2d(256, 128, 3, 1, 1),\n",
    "                                     nn.BatchNorm2d(128),\n",
    "                                     nn.ReLU(),\n",
    "                                     nn.Dropout2d(0.3),\n",
    "                                     nn.Conv2d(128, 10, 3, 1, 1),\n",
    "                                     nn.BatchNorm2d(10),\n",
    "                                     nn.ReLU())\n",
    "        \n",
    "    def forward(self, x):\n",
    "        \n",
    "        x = self._encoder_model(x)\n",
    "        \n",
    "\n",
    "        x = self._output_layer(x)\n",
    "        x = F.adaptive_avg_pool2d(x, (1,1))\n",
    "        \n",
    "        return x.squeeze()"
   ]
  },
  {
   "cell_type": "code",
   "execution_count": 17,
   "metadata": {},
   "outputs": [],
   "source": [
    "def train(encoder_classifier, optimizer, **kwargs):\n",
    "    \n",
    "    if kwargs['phase'] == 'Training':\n",
    "        encoder_classifier.train()\n",
    "        \n",
    "    if kwargs['phase'] == 'Validation':\n",
    "        encoder_classifier.eval()\n",
    "     \n",
    "    \n",
    "    criterion = nn.CrossEntropyLoss().to(cuda0)\n",
    "    \n",
    "    running_loss = 0\n",
    "    running_pred = 0\n",
    "    \n",
    "    batch_wise_loss = []\n",
    "    \n",
    "    for i, (images, labels) in enumerate(kwargs['dataloader']):\n",
    "        \n",
    "        \n",
    "        Images = images.to(cuda0)\n",
    "        Labels = labels.to(cuda0)\n",
    "        \n",
    "        y_pred = encoder_classifier(Images)\n",
    "        Labels = Labels\n",
    "        \n",
    "        loss = criterion(y_pred, Labels)\n",
    "        \n",
    "        running_loss += loss.item()\n",
    "        \n",
    "        batch_wise_loss.append(loss.item())\n",
    "        \n",
    "        # Varying learning rate if lr_finder is used\n",
    "        if kwargs['lr_finder'] == True:\n",
    "            \n",
    "            optimizer = optim.Adam(encoder_classifier.parameters(), lr = kwargs['lr_range_val'][i])\n",
    "            \n",
    "        \n",
    "        if kwargs['phase'] == 'Training':\n",
    "            \n",
    "            #Backward\n",
    "            optimizer.zero_grad()\n",
    "            loss.backward()\n",
    "\n",
    "            #Update weights\n",
    "            optimizer.step()\n",
    "            \n",
    "            \n",
    "        # Finding the number of correct predictions in the training set\n",
    "        _, pred_class = torch.max(y_pred.data, 1)\n",
    "       \n",
    "        running_pred += (pred_class.cpu() == Labels.data.cpu()).sum()\n",
    "\n",
    "\n",
    "    acc = 100. * (running_pred.numpy()/len(kwargs['dataloader'].sampler))\n",
    "          \n",
    "    return running_loss/len(kwargs['dataloader']), acc, batch_wise_loss"
   ]
  },
  {
   "cell_type": "code",
   "execution_count": 18,
   "metadata": {},
   "outputs": [],
   "source": [
    "encoder_classifier = Classifier(pretrained_encoder).to(cuda0)\n",
    "\n",
    "learning_rate = 0.001\n",
    "\n",
    "optimizer = optim.Adam(encoder_classifier.parameters(), lr = learning_rate)"
   ]
  },
  {
   "cell_type": "code",
   "execution_count": 19,
   "metadata": {},
   "outputs": [
    {
     "data": {
      "image/png": "[encoded data removed]",
      "text/plain": [
       "<Figure size 432x288 with 1 Axes>"
      ]
     },
     "metadata": {},
     "output_type": "display_data"
    }
   ],
   "source": [
    "# Using lr finder to find the optimal learning rate for the fc layers\n",
    "_, _, batch_loss = train(encoder_classifier, optimizer, dataloader = trainloader,  phase = 'Training', lr_range_val = lr_array, lr_finder = True)  # Training set accuracy\n",
    "lr_finder(lr_array, batch_loss)"
   ]
  },
  {
   "cell_type": "code",
   "execution_count": 24,
   "metadata": {},
   "outputs": [
    {
     "name": "stdout",
     "output_type": "stream",
     "text": [
      "Epoch: 0  Train Loss: 1.04747  Train Acc:62.79250%    Val Loss: 1.12539  Val Acc:59.65000% \n",
      "Epoch: 10  Train Loss: 1.19359  Train Acc:58.05000%    Val Loss: 0.98524  Val Acc:64.69000% \n",
      "Epoch: 20  Train Loss: 1.05550  Train Acc:62.91500%    Val Loss: 0.88976  Val Acc:69.20000% \n",
      "Epoch: 30  Train Loss: 1.00077  Train Acc:65.08000%    Val Loss: 0.86408  Val Acc:69.80000% \n",
      "Epoch: 40  Train Loss: 0.95639  Train Acc:66.69750%    Val Loss: 0.84457  Val Acc:70.51000% \n",
      "Epoch: 50  Train Loss: 0.90774  Train Acc:68.41250%    Val Loss: 0.83051  Val Acc:71.01000% \n",
      "Epoch: 60  Train Loss: 0.90847  Train Acc:68.52000%    Val Loss: 0.82918  Val Acc:70.97000% \n",
      "Epoch: 70  Train Loss: 0.91015  Train Acc:68.40000%    Val Loss: 0.82557  Val Acc:71.21000% \n",
      "Epoch: 80  Train Loss: 0.90363  Train Acc:68.73250%    Val Loss: 0.83077  Val Acc:71.04000% \n",
      "Epoch: 90  Train Loss: 0.90745  Train Acc:68.52750%    Val Loss: 0.83044  Val Acc:71.16000% \n",
      "Epoch: 100  Train Loss: 0.90594  Train Acc:68.70500%    Val Loss: 0.82867  Val Acc:71.08000% \n",
      "Epoch: 110  Train Loss: 0.91050  Train Acc:68.47750%    Val Loss: 0.83042  Val Acc:71.12000% \n",
      "Epoch: 120  Train Loss: 0.91382  Train Acc:68.62250%    Val Loss: 0.82670  Val Acc:70.96000% \n",
      "Epoch: 130  Train Loss: 0.90678  Train Acc:68.40250%    Val Loss: 0.82825  Val Acc:71.20000% \n",
      "Epoch: 140  Train Loss: 0.90319  Train Acc:68.89500%    Val Loss: 0.83578  Val Acc:71.00000% \n"
     ]
    }
   ],
   "source": [
    "train_loss_values = []\n",
    "train_acc_values = []\n",
    "\n",
    "val_loss_values = []\n",
    "val_acc_values = []\n",
    "\n",
    "best_acc = 0\n",
    "\n",
    "learning_rate = 0.01    # Optimal learning rate using lr finder\n",
    "\n",
    "optimizer = optim.Adam(encoder_classifier._output_layer.parameters(), lr = learning_rate, weight_decay = 0.0005)\n",
    "scheduler = optim.lr_scheduler.ReduceLROnPlateau(optimizer, 'min', patience =2)\n",
    "\n",
    "for epoch in range(150):   \n",
    "    \n",
    "    train_loss, train_acc, _ = train(encoder_classifier, optimizer, dataloader = trainloader,  phase = 'Training', lr_range_val = [], lr_finder = False)  # Training set accuracy\n",
    "    train_loss_values.append(train_loss)\n",
    "    train_acc_values.append(train_acc)\n",
    "\n",
    "    val_loss, val_acc, _ = train(encoder_classifier, optimizer, dataloader = valloader,  phase = 'Validation', lr_range_val = [], lr_finder = False)  # Training set accuracy\n",
    "    val_loss_values.append(val_loss)\n",
    "    val_acc_values.append(val_acc)\n",
    "    \n",
    "    if val_acc > best_acc:\n",
    "        best_acc = val_acc\n",
    "        classifier_model_checkpoint = copy.deepcopy(encoder_classifier.state_dict())\n",
    "        \n",
    "    \n",
    "    scheduler.step(val_loss)\n",
    "    \n",
    "    if epoch % 10 == 0:\n",
    "        print(f'Epoch: {epoch}  Train Loss: {train_loss:.5f}  Train Acc:{train_acc:.5f}%\\\n",
    "    Val Loss: {val_loss:.5f}  Val Acc:{val_acc:.5f}% ')\n"
   ]
  },
  {
   "cell_type": "code",
   "execution_count": 25,
   "metadata": {},
   "outputs": [],
   "source": [
    "# Function to get predictions for test data and the accuracy on it\n",
    "def predict(model, testloader):\n",
    "    \n",
    "    model.eval()\n",
    "    pred_val = 0\n",
    "    prediction_array = np.array([])\n",
    "    labels_array = np.array([])\n",
    "    \n",
    "    for images, labels in testloader:\n",
    "        \n",
    "\n",
    "        # Feeding data to GPU \n",
    "        \n",
    "        Images = images.to(cuda0)\n",
    "        Labels = labels.to(cuda0)\n",
    "\n",
    "\n",
    "        #Forward\n",
    "        pred = model(Images)\n",
    "        \n",
    "        # Finding the number of correct predictions in the training set\n",
    "        _, pred_label = torch.max(pred.data, 1)\n",
    "\n",
    "        pred_val += (pred_label.cpu() == Labels.data.cpu()).sum()\n",
    "        \n",
    "        # Storing predictions and true labels in numpy arrays for printing confusion matrix\n",
    "        prediction_array = np.append(prediction_array, pred_label.cpu().numpy(), axis =0)\n",
    "        labels_array = np.append(labels_array, Labels.data.cpu().numpy(), axis = 0)\n",
    "\n",
    "\n",
    "    Test_acc = 100. * (pred_val.numpy()/len(testloader.dataset))\n",
    "    return Test_acc, prediction_array, labels_array\n",
    "    "
   ]
  },
  {
   "cell_type": "code",
   "execution_count": 26,
   "metadata": {},
   "outputs": [],
   "source": [
    "encoder_classifier.load_state_dict(classifier_model_checkpoint)\n",
    "torch.save(encoder_classifier.state_dict(), \"VAE_model.th\")"
   ]
  },
  {
   "cell_type": "code",
   "execution_count": 27,
   "metadata": {},
   "outputs": [
    {
     "name": "stdout",
     "output_type": "stream",
     "text": [
      "Test Accuracy:69.64000% \n"
     ]
    }
   ],
   "source": [
    "Test_acc, Predicted_labels, True_labels = predict(encoder_classifier, testloader) # Test set accuracy\n",
    "\n",
    "print(f'Test Accuracy:{Test_acc:.5f}% ')"
   ]
  },
  {
   "cell_type": "code",
   "execution_count": 28,
   "metadata": {},
   "outputs": [
    {
     "name": "stdout",
     "output_type": "stream",
     "text": [
      "[[764  22  52  10  11   7   9  11  75  39]\n",
      " [ 13 872   2   5   3   2   8   6  20  69]\n",
      " [ 79   9 551  84  83  75  63  32  14  10]\n",
      " [ 28  11  59 464  61 190  92  45  24  26]\n",
      " [ 32   8  90  74 575  47  74  90   9   1]\n",
      " [ 17   5  64 170  39 604  25  63   5   8]\n",
      " [  9   6  36  58  41  29 792   7  17   5]\n",
      " [ 20   3  33  42  47  80  10 747   4  14]\n",
      " [ 66  37  10  18   5   4   5   6 819  30]\n",
      " [ 31  99   5  24   0   6  13  15  31 776]]\n"
     ]
    }
   ],
   "source": [
    "#Confusion matrix\n",
    "from sklearn.metrics import confusion_matrix\n",
    "cm = confusion_matrix(True_labels, Predicted_labels)\n",
    "print(cm)"
   ]
  },
  {
   "cell_type": "code",
   "execution_count": 29,
   "metadata": {},
   "outputs": [
    {
     "name": "stdout",
     "output_type": "stream",
     "text": [
      "['with_ball', 'without_ball']\n"
     ]
    },
    {
     "data": {
      "image/png": "[encoded data removed]",
      "text/plain": [
       "<Figure size 576x576 with 2 Axes>"
      ]
     },
     "metadata": {},
     "output_type": "display_data"
    }
   ],
   "source": [
    "# Plotting confusion matrix\n",
    "import itertools\n",
    "def plot_confusion_matrix(cm, classes):\n",
    "    \n",
    "    cmap = plt.get_cmap('Greens')\n",
    "    plt.figure(figsize=(8,8))\n",
    "    plt.imshow(cm, cmap = cmap, interpolation = 'nearest')\n",
    "    plt.colorbar()\n",
    "    \n",
    "    tick_marks = np.arange(len(classes))\n",
    "    plt.xticks(tick_marks, classes)\n",
    "    plt.yticks(tick_marks, classes)\n",
    "    print(classes)\n",
    "    plt.xlabel(\"Predicted Values\")\n",
    "    plt.ylabel(\"True Values\")\n",
    "    \n",
    "    threshold = cm.max()/2\n",
    "    \n",
    "    for i, j in itertools.product(range(cm.shape[0]), range(cm.shape[1])):\n",
    "        \n",
    "        plt.text(i, j, f'{cm[i, j]}' , horizontalalignment = 'center', \n",
    "                 color=\"white\" if cm[i, j] < threshold else \"black\")\n",
    "\n",
    "plot_confusion_matrix(cm.T, ['with_ball', 'without_ball'])"
   ]
  },
  {
   "cell_type": "code",
   "execution_count": null,
   "metadata": {},
   "outputs": [],
   "source": []
  }
 ],
 "metadata": {
  "kernelspec": {
   "display_name": "Python 3",
   "language": "python",
   "name": "python3"
  },
  "language_info": {
   "codemirror_mode": {
    "name": "ipython",
    "version": 3
   },
   "file_extension": ".py",
   "mimetype": "text/x-python",
   "name": "python",
   "nbconvert_exporter": "python",
   "pygments_lexer": "ipython3",
   "version": "3.6.6"
  }
 },
 "nbformat": 4,
 "nbformat_minor": 2
}
