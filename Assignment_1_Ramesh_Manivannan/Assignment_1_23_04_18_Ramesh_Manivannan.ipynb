{
 "cells": [
  {
   "cell_type": "markdown",
   "metadata": {},
   "source": [
    "### Single Layer Perceptron in Numpy ###\n",
    "1.Iswariya Manivannan<br>\n",
    "2.Sathiya Ramesh"
   ]
  },
  {
   "cell_type": "code",
   "execution_count": 6,
   "metadata": {},
   "outputs": [],
   "source": [
    "import torch\n",
    "import torch.nn as nn\n",
    "import torchvision.transforms as transforms\n",
    "import torchvision.datasets as dsets\n",
    "\n",
    "train_dataset= dsets.MNIST(root='./data',train=True,transform=transforms.ToTensor(),download=True)\n",
    "test_dataset= dsets.MNIST(root='./data',train=False,transform=transforms.ToTensor(),download=True)"
   ]
  },
  {
   "cell_type": "code",
   "execution_count": 7,
   "metadata": {},
   "outputs": [],
   "source": [
    "import numpy as np\n",
    "import matplotlib.pyplot as plt\n",
    "from ipywidgets import interactive\n",
    "import ipywidgets as widgets\n",
    "from IPython.display import display\n",
    "np.random.seed(1)\n"
   ]
  },
  {
   "cell_type": "code",
   "execution_count": 8,
   "metadata": {},
   "outputs": [],
   "source": [
    "# Initial settings\n",
    "num_epoch = 500\n",
    "learning_rate = 1e-6\n",
    "batch_size=20"
   ]
  },
  {
   "cell_type": "code",
   "execution_count": 9,
   "metadata": {},
   "outputs": [
    {
     "data": {
      "application/vnd.jupyter.widget-view+json": {
       "model_id": "507f03f0439140b98dcc364a99f0626a",
       "version_major": 2,
       "version_minor": 0
      },
      "text/html": [
       "<p>Failed to display Jupyter Widget of type <code>interactive</code>.</p>\n",
       "<p>\n",
       "  If you're reading this message in the Jupyter Notebook or JupyterLab Notebook, it may mean\n",
       "  that the widgets JavaScript is still loading. If this message persists, it\n",
       "  likely means that the widgets JavaScript library is either not installed or\n",
       "  not enabled. See the <a href=\"https://ipywidgets.readthedocs.io/en/stable/user_install.html\">Jupyter\n",
       "  Widgets Documentation</a> for setup instructions.\n",
       "</p>\n",
       "<p>\n",
       "  If you're reading this message in another frontend (for example, a static\n",
       "  rendering on GitHub or <a href=\"https://nbviewer.jupyter.org/\">NBViewer</a>),\n",
       "  it may mean that your frontend doesn't currently support widgets.\n",
       "</p>\n"
      ],
      "text/plain": [
       "interactive(children=(RadioButtons(description='LearningRate', index=1, options=('1e-5', '1e-6', '1e-7', '1e-8', '1e-9'), value='1e-6'), IntSlider(value=500, description='Epoch', max=1000, min=100, step=20), Output()), _dom_classes=('widget-interact',))"
      ]
     },
     "metadata": {},
     "output_type": "display_data"
    }
   ],
   "source": [
    "# Widgets for learning rate and no. of epochs\n",
    "def Display_func(alpha,Epoch):\n",
    "\n",
    "    global learning_rate\n",
    "    learning_rate = float(alpha)\n",
    "    global num_epoch\n",
    "    num_epoch = Epoch\n",
    "    \n",
    "    print(f\"Current learning_rate is {alpha}\")\n",
    "\n",
    "    print(f\"Number of Epoch - {Epoch}\")\n",
    "\n",
    "    return (learning_rate,Epoch)\n",
    "\n",
    "\n",
    "\n",
    "y=interactive(Display_func,alpha=widgets.RadioButtons(\n",
    "\n",
    "    options=['1e-5', '1e-6', '1e-7', '1e-8', '1e-9' ],\n",
    "    value='1e-6',\n",
    "    description='LearningRate',\n",
    "    disabled=False),Epoch=widgets.IntSlider(min=100,max=1000,step=20,value=500))\n",
    "\n",
    "display(y)\n"
   ]
  },
  {
   "cell_type": "code",
   "execution_count": 10,
   "metadata": {},
   "outputs": [],
   "source": [
    "class Single_layer_perceptron:\n",
    "    \n",
    "    def __init__(self, n_x, n_y):\n",
    "        \n",
    "        self.input_layer_size = n_x\n",
    "        self.ouput_layer_size = n_y\n",
    "    \n",
    "    def weight_initialization(self):\n",
    "        \n",
    "        W_1 = np.random.randn(self.ouput_layer_size, self.input_layer_size)*0.001\n",
    "        B_1 = np.zeros([self.ouput_layer_size, 1])\n",
    "\n",
    "        parameters = [W_1, B_1]\n",
    "        return parameters\n",
    "                                            \n",
    "    \n",
    "    \n",
    "    # Function for Softmax outputs\n",
    "    def softmax(self, Z):\n",
    "        \n",
    "\n",
    "\n",
    "        return np.exp(Z)/np.sum(np.exp(Z), axis =0)\n",
    "    \n",
    "    \n",
    "    # Gradient of softmax function\n",
    "    def softmax_prime(self, Z_2, y_hat): \n",
    "        \n",
    "\n",
    "        return self.softmax(Z_2) * (1 - self.softmax(Z_2))\n",
    "                        \n",
    "     \n",
    "            \n",
    "    def Forward_prop(self, X, Y, parameters):\n",
    "        \n",
    "\n",
    "        W_1, B_1 = parameters\n",
    "        Z_1 = np.dot(W_1, X) + B_1\n",
    "        A_1 = self.softmax(Z_1)\n",
    "        \n",
    "        #assert (y_hat.shape == Y.shape)\n",
    "        cache = [Z_1, A_1]\n",
    "                                            \n",
    "        return cache\n",
    "                                            \n",
    "    def Cost_function(self, Y, y_hat, parameters, lambd = 0):\n",
    "        \n",
    "        W_1, B_1 = parameters\n",
    "        m = Y.shape[-1]\n",
    "        cost = np.square(Y - y_hat)\n",
    "        \n",
    "        cost = np.sum(cost, axis = 0, keepdims= True).mean(axis = 1)/2\n",
    "        L2_cost = np.sum(np.square(W_1))*(lambd/(2*m))\n",
    "        cost = cost + L2_cost\n",
    "        cost = np.squeeze(cost)\n",
    "        return cost\n",
    "                                            \n",
    "    \n",
    "    # Function for Backward Propagation\n",
    "    def Backward_prop(self, parameters, cache, X, Y, lambd = 0):\n",
    "        \n",
    "        m = X.shape[1]\n",
    "        \n",
    "        W_1, B_1 = parameters\n",
    "        Z_1, A_1= cache\n",
    "        y_hat = A_1\n",
    "                                            \n",
    "        dZ_1 = -(Y - y_hat)*(self.softmax_prime(Z_1, y_hat))\n",
    "        dW_1 = (1.0/m)*(np.dot(dZ_1, X.T)) + (lambd/m)*W_1\n",
    "        dB_1 = (1.0/m)*(np.sum(dZ_1, axis = 1, keepdims= True))\n",
    "        \n",
    "\n",
    "        \n",
    "        assert (dW_1.shape == W_1.shape)\n",
    "        assert (dB_1.shape == B_1.shape)\n",
    "\n",
    "        \n",
    "        delta_weights = [dW_1, dB_1]\n",
    "        \n",
    "        return delta_weights\n",
    "    \n",
    "        \n",
    "    # Function to update the parameters using Gradient Descent  \n",
    "    def Parameter_update(self, parameters, delta_weights, learning_rate):\n",
    "        \n",
    "        dW_1, dB_1 = delta_weights\n",
    "        W_1, B_1= parameters\n",
    "        \n",
    "        W_1 = W_1 - learning_rate*dW_1\n",
    "        B_1 = B_1 - learning_rate*dB_1\n",
    "\n",
    "        \n",
    "        params = [W_1, B_1]\n",
    "        \n",
    "        return params\n",
    "    \n",
    "    \n",
    "    # Function to calculate the Accuracy of prediction  \n",
    "    def Accuracy(self, predictions, Y_test):\n",
    "    \n",
    "        accuracy = np.mean(predictions == Y_test) * 100\n",
    "    \n",
    "        return accuracy\n",
    "    \n",
    "    \n",
    "    # Function to calculate the output labels of the test data\n",
    "    def Predict(self, parameters, X_test, Y_test):\n",
    "    \n",
    "    \n",
    "        y_hat, cache = model.Forward_prop(X_test, Y_test, parameters)\n",
    "\n",
    "        prediction = np.argmax(y_hat, axis=0)\n",
    "\n",
    "        return prediction"
   ]
  },
  {
   "cell_type": "code",
   "execution_count": 11,
   "metadata": {},
   "outputs": [
    {
     "name": "stdout",
     "output_type": "stream",
     "text": [
      "Epoch 0   Cost: 0.07857429745396949    Training Acc: 83.40333%   Test Acc: 84.85000%\n"
     ]
    },
    {
     "ename": "KeyboardInterrupt",
     "evalue": "",
     "output_type": "error",
     "traceback": [
      "\u001b[0;31m---------------------------------------------------------------------------\u001b[0m",
      "\u001b[0;31mKeyboardInterrupt\u001b[0m                         Traceback (most recent call last)",
      "\u001b[0;32m<ipython-input-11-cb597c6b1a18>\u001b[0m in \u001b[0;36m<module>\u001b[0;34m()\u001b[0m\n\u001b[1;32m     49\u001b[0m \u001b[0;34m\u001b[0m\u001b[0m\n\u001b[1;32m     50\u001b[0m         \u001b[0;31m#Backward Propagation\u001b[0m\u001b[0;34m\u001b[0m\u001b[0;34m\u001b[0m\u001b[0m\n\u001b[0;32m---> 51\u001b[0;31m         \u001b[0mdelta_weights\u001b[0m \u001b[0;34m=\u001b[0m \u001b[0mmodel\u001b[0m\u001b[0;34m.\u001b[0m\u001b[0mBackward_prop\u001b[0m\u001b[0;34m(\u001b[0m\u001b[0mparameters\u001b[0m\u001b[0;34m,\u001b[0m \u001b[0mcache\u001b[0m\u001b[0;34m,\u001b[0m \u001b[0mX_batch\u001b[0m\u001b[0;34m,\u001b[0m \u001b[0mY_batch\u001b[0m\u001b[0;34m,\u001b[0m \u001b[0mlambd\u001b[0m\u001b[0;34m)\u001b[0m\u001b[0;34m\u001b[0m\u001b[0m\n\u001b[0m\u001b[1;32m     52\u001b[0m \u001b[0;34m\u001b[0m\u001b[0m\n\u001b[1;32m     53\u001b[0m         \u001b[0;31m#Updating the parameters\u001b[0m\u001b[0;34m\u001b[0m\u001b[0;34m\u001b[0m\u001b[0m\n",
      "\u001b[0;32m<ipython-input-10-fd290128154c>\u001b[0m in \u001b[0;36mBackward_prop\u001b[0;34m(self, parameters, cache, X, Y, lambd)\u001b[0m\n\u001b[1;32m     67\u001b[0m \u001b[0;34m\u001b[0m\u001b[0m\n\u001b[1;32m     68\u001b[0m         \u001b[0mdZ_1\u001b[0m \u001b[0;34m=\u001b[0m \u001b[0;34m-\u001b[0m\u001b[0;34m(\u001b[0m\u001b[0mY\u001b[0m \u001b[0;34m-\u001b[0m \u001b[0my_hat\u001b[0m\u001b[0;34m)\u001b[0m\u001b[0;34m*\u001b[0m\u001b[0;34m(\u001b[0m\u001b[0mself\u001b[0m\u001b[0;34m.\u001b[0m\u001b[0msoftmax_prime\u001b[0m\u001b[0;34m(\u001b[0m\u001b[0mZ_1\u001b[0m\u001b[0;34m,\u001b[0m \u001b[0my_hat\u001b[0m\u001b[0;34m)\u001b[0m\u001b[0;34m)\u001b[0m\u001b[0;34m\u001b[0m\u001b[0m\n\u001b[0;32m---> 69\u001b[0;31m         \u001b[0mdW_1\u001b[0m \u001b[0;34m=\u001b[0m \u001b[0;34m(\u001b[0m\u001b[0;36m1.0\u001b[0m\u001b[0;34m/\u001b[0m\u001b[0mm\u001b[0m\u001b[0;34m)\u001b[0m\u001b[0;34m*\u001b[0m\u001b[0;34m(\u001b[0m\u001b[0mnp\u001b[0m\u001b[0;34m.\u001b[0m\u001b[0mdot\u001b[0m\u001b[0;34m(\u001b[0m\u001b[0mdZ_1\u001b[0m\u001b[0;34m,\u001b[0m \u001b[0mX\u001b[0m\u001b[0;34m.\u001b[0m\u001b[0mT\u001b[0m\u001b[0;34m)\u001b[0m\u001b[0;34m)\u001b[0m \u001b[0;34m+\u001b[0m \u001b[0;34m(\u001b[0m\u001b[0mlambd\u001b[0m\u001b[0;34m/\u001b[0m\u001b[0mm\u001b[0m\u001b[0;34m)\u001b[0m\u001b[0;34m*\u001b[0m\u001b[0mW_1\u001b[0m\u001b[0;34m\u001b[0m\u001b[0m\n\u001b[0m\u001b[1;32m     70\u001b[0m         \u001b[0mdB_1\u001b[0m \u001b[0;34m=\u001b[0m \u001b[0;34m(\u001b[0m\u001b[0;36m1.0\u001b[0m\u001b[0;34m/\u001b[0m\u001b[0mm\u001b[0m\u001b[0;34m)\u001b[0m\u001b[0;34m*\u001b[0m\u001b[0;34m(\u001b[0m\u001b[0mnp\u001b[0m\u001b[0;34m.\u001b[0m\u001b[0msum\u001b[0m\u001b[0;34m(\u001b[0m\u001b[0mdZ_1\u001b[0m\u001b[0;34m,\u001b[0m \u001b[0maxis\u001b[0m \u001b[0;34m=\u001b[0m \u001b[0;36m1\u001b[0m\u001b[0;34m,\u001b[0m \u001b[0mkeepdims\u001b[0m\u001b[0;34m=\u001b[0m \u001b[0;32mTrue\u001b[0m\u001b[0;34m)\u001b[0m\u001b[0;34m)\u001b[0m\u001b[0;34m\u001b[0m\u001b[0m\n\u001b[1;32m     71\u001b[0m \u001b[0;34m\u001b[0m\u001b[0m\n",
      "\u001b[0;31mKeyboardInterrupt\u001b[0m: "
     ]
    }
   ],
   "source": [
    "model = Single_layer_perceptron(784, 10)\n",
    "\n",
    "\n",
    "lambd = 0           # Lambda set to 0. L2 regularization not used.\n",
    "num_steps = (len(train_dataset)) // batch_size\n",
    "\n",
    "total_cost = []\n",
    "train_acc = []\n",
    "test_acc = []\n",
    "\n",
    "# Fetching the training data\n",
    "X_train=train_dataset.train_data.numpy()\n",
    "Y_train=train_dataset.train_labels.numpy()\n",
    "parameters = model.weight_initialization()\n",
    "\n",
    "# Fetching the test data \n",
    "X_test = test_dataset.test_data.numpy()\n",
    "X_test = X_test.reshape([10000, 784]).T\n",
    "Y_test = test_dataset.test_labels.numpy().T\n",
    "\n",
    "# Note: Test data is used ONLY for Accuracy calculation and will not be used during training\n",
    "\n",
    "for i in range(0, num_epoch):\n",
    "\n",
    "\n",
    "    for step in range(num_steps):\n",
    "        \n",
    "        one_hot = np.zeros((20,10))\n",
    "\n",
    "        offset = (step * batch_size) % (len(train_dataset) - batch_size)\n",
    "\n",
    "        X_batch = X_train[offset:(offset + batch_size), :].reshape(20,784)\n",
    "\n",
    "        Y_batch = Y_train[offset:(offset + batch_size)].reshape(20,1)\n",
    "        \n",
    "        X_batch = X_batch.T\n",
    "        Y_batch = Y_batch.T\n",
    "        \n",
    "        #One hot encoding of the labels\n",
    "        one_hot[np.arange(Y_batch.shape[1]), Y_batch] = 1 \n",
    "        Y_batch = one_hot.T\n",
    "\n",
    "        #Forward Propagation\n",
    "        cache = model.Forward_prop(X_batch, Y_batch, parameters)\n",
    "        y_hat = cache[-1]\n",
    "        \n",
    "        #Calculating the cost\n",
    "        cost = model.Cost_function(Y_batch, y_hat, parameters, lambd)\n",
    "\n",
    "        #Backward Propagation\n",
    "        delta_weights = model.Backward_prop(parameters, cache, X_batch, Y_batch, lambd)\n",
    "\n",
    "        #Updating the parameters\n",
    "        parameters = model.Parameter_update(parameters, delta_weights, learning_rate)\n",
    "        \n",
    "    total_cost.append(cost)\n",
    "    \n",
    "    # Predicting the labels for the train data using the trained parameters\n",
    "    Y_pred = model.Predict(parameters, X_train.reshape(60000, 784).T, Y_train.reshape(60000, 1).T)\n",
    "    \n",
    "    # Calculating the Training accuracy of the model\n",
    "    train_acc.append(model.Accuracy(Y_pred, Y_train.reshape(60000, 1).T))\n",
    "    \n",
    "    # Predicting the labels for the test data using the trained parameters\n",
    "    Y_pred_test = model.Predict(parameters, X_test, Y_test)\n",
    "\n",
    "    # Calculating the accuracy of the model\n",
    "    test_acc.append(model.Accuracy(Y_pred_test, Y_test))\n",
    "    \n",
    "    if i%20 == 0:\n",
    "        print(f'Epoch {i}   Cost: {cost}    Training Acc: {train_acc[i]:.5f}%   Test Acc: {test_acc[i]:.5f}%')\n",
    "        \n",
    "  "
   ]
  },
  {
   "cell_type": "code",
   "execution_count": 49,
   "metadata": {},
   "outputs": [
    {
     "data": {
      "text/plain": [
       "Text(0,0.5,'Percentage Accuracy')"
      ]
     },
     "execution_count": 49,
     "metadata": {},
     "output_type": "execute_result"
    },
    {
     "data": {
      "image/png": "[encoded data removed]",
      "text/plain": [
       "<matplotlib.figure.Figure at 0x7f87a03e2048>"
      ]
     },
     "metadata": {},
     "output_type": "display_data"
    }
   ],
   "source": [
    "#Plotting the cost function\n",
    "fig = plt.figure(figsize=(12,5))\n",
    "ax = fig.add_subplot(1,2,1)\n",
    "ax.set_title(\"Cost Function\")\n",
    "ax.plot(total_cost, '-')\n",
    "ax.set_xlabel(\"Epochs\")\n",
    "ax.set_ylabel(\"Cost\")\n",
    "ax.set_yscale('log')\n",
    "\n",
    "ax1 = fig.add_subplot(1,2,2)\n",
    "ax1.set_title(\"Accuracy\")\n",
    "ax1.plot(train_acc, '-', color='green')\n",
    "ax1.plot(test_acc, '-', color='red')\n",
    "ax1.legend(['train_acc', 'test_acc'],loc='best')\n",
    "ax1.set_xlabel(\"Epochs\")\n",
    "ax1.set_ylabel(\"Percentage Accuracy\")\n"
   ]
  },
  {
   "cell_type": "code",
   "execution_count": 50,
   "metadata": {},
   "outputs": [
    {
     "name": "stdout",
     "output_type": "stream",
     "text": [
      "[[ 957    0    0    3    2    2    7    4    4    1]\n",
      " [   0 1113    5    1    0    1    4    1   10    0]\n",
      " [   7    7  928   18    7    4    9   10   36    6]\n",
      " [   1    1   12  927    1   23    4    9   23    9]\n",
      " [   3    1    4    1  907    0   13    4   11   38]\n",
      " [   8    2    1   30    7  791   11    6   30    6]\n",
      " [  10    2    6    2    6   20  907    2    3    0]\n",
      " [   2    6   21    9    6    2    0  951    5   26]\n",
      " [   5    7    6   21    5   28   10    9  874    9]\n",
      " [   7    5    0    9   18    5    1   18   13  933]]\n"
     ]
    }
   ],
   "source": [
    "from sklearn.metrics import confusion_matrix\n",
    "cm = confusion_matrix(Y_test, Y_pred_test)\n",
    "print(cm)"
   ]
  },
  {
   "cell_type": "code",
   "execution_count": 51,
   "metadata": {},
   "outputs": [
    {
     "data": {
      "image/png": "[encoded data removed]",
      "text/plain": [
       "<matplotlib.figure.Figure at 0x7f87932fbba8>"
      ]
     },
     "metadata": {},
     "output_type": "display_data"
    }
   ],
   "source": [
    "import itertools\n",
    "def plot_confusion_matrix(cm, target_labels):\n",
    "    \n",
    "    cmap = plt.get_cmap('Blues')\n",
    "    plt.figure(figsize=(8,8))\n",
    "    plt.imshow(cm, cmap = cmap, interpolation = 'nearest')\n",
    "    plt.colorbar()\n",
    "    \n",
    "    tick_marks = np.arange(len(target_labels))\n",
    "    plt.xticks(tick_marks, target_labels)\n",
    "    plt.yticks(tick_marks, target_labels)\n",
    "    \n",
    "    plt.xlabel(\"Predicted Values\")\n",
    "    plt.ylabel(\"True Values\")\n",
    "    \n",
    "    threshold = cm.max()/2\n",
    "    \n",
    "    for i, j in itertools.product(range(cm.shape[0]), range(cm.shape[1])):\n",
    "        \n",
    "        plt.text(i, j, f'{cm[i, j]}' , horizontalalignment = 'center', \n",
    "                 color=\"white\" if cm[i, j] > threshold else \"black\")\n",
    "\n",
    "plot_confusion_matrix(cm, np.arange(10))\n"
   ]
  }
 ],
 "metadata": {
  "kernelspec": {
   "display_name": "Python 3",
   "language": "python",
   "name": "python3"
  },
  "language_info": {
   "codemirror_mode": {
    "name": "ipython",
    "version": 3
   },
   "file_extension": ".py",
   "mimetype": "text/x-python",
   "name": "python",
   "nbconvert_exporter": "python",
   "pygments_lexer": "ipython3",
   "version": "3.6.6"
  }
 },
 "nbformat": 4,
 "nbformat_minor": 2
}
