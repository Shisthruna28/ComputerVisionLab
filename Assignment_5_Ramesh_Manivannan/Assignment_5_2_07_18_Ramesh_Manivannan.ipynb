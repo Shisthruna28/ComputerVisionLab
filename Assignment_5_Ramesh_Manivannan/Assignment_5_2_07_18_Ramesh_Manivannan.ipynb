{
 "cells": [
  {
   "cell_type": "markdown",
   "metadata": {},
   "source": [
    "### Pretrained Resnet using custom soccer dataset ###\n",
    "1.Iswariya Manivannan<br>\n",
    "2.Sathiya Ramesh"
   ]
  },
  {
   "cell_type": "code",
   "execution_count": 1,
   "metadata": {},
   "outputs": [],
   "source": [
    "import torch\n",
    "import torch.nn as nn\n",
    "import torch.optim as optim\n",
    "import torchvision.transforms as transforms\n",
    "import torchvision.datasets as dsets\n",
    "import torchvision.models as models\n",
    "from torch.autograd import Variable\n",
    "import torch.utils.data as utils_data\n",
    "from torch.utils.data.sampler import SubsetRandomSampler\n",
    "%matplotlib inline\n",
    "import matplotlib.pyplot as plt \n",
    "import numpy as np\n",
    "import copy\n",
    "\n",
    "torch.manual_seed(40)\n",
    "torch.cuda.manual_seed(40)\n",
    "np.random.seed(2)"
   ]
  },
  {
   "cell_type": "code",
   "execution_count": 2,
   "metadata": {},
   "outputs": [
    {
     "name": "stdout",
     "output_type": "stream",
     "text": [
      "cuda:0\n",
      "True\n"
     ]
    }
   ],
   "source": [
    "cuda0 = torch.device('cuda:0')\n",
    "print(cuda0)\n",
    "print(torch.cuda.is_available())"
   ]
  },
  {
   "cell_type": "code",
   "execution_count": 42,
   "metadata": {},
   "outputs": [
    {
     "name": "stdout",
     "output_type": "stream",
     "text": [
      "{'with_ball': 0, 'without_ball': 1}\n",
      "{'with_ball': 0, 'without_ball': 1}\n",
      "{'with_ball': 0, 'without_ball': 1}\n"
     ]
    }
   ],
   "source": [
    "transform = transforms.Compose([transforms.Resize((224,224)), transforms.RandomHorizontalFlip(),\n",
    "                               transforms.ToTensor(),\n",
    "                               transforms.Normalize([0.485, 0.456, 0.406], [0.229, 0.224, 0.225])])\n",
    "\n",
    "trainset = dsets.ImageFolder('/opt/datasets/Robocup_soccer/train', transform)\n",
    "valset = dsets.ImageFolder('/opt/datasets/Robocup_soccer/valid', transform)\n",
    "testset = dsets.ImageFolder('/opt/datasets/Robocup_soccer/test', transform)\n",
    "print(trainset.class_to_idx)\n",
    "print(valset.class_to_idx)\n",
    "print(testset.class_to_idx)"
   ]
  },
  {
   "cell_type": "code",
   "execution_count": 43,
   "metadata": {},
   "outputs": [
    {
     "name": "stdout",
     "output_type": "stream",
     "text": [
      "1011\n"
     ]
    }
   ],
   "source": [
    "print(len(trainset))\n",
    "batch_size = 16\n",
    "trainloader = utils_data.DataLoader(trainset, batch_size = batch_size, shuffle = True, num_workers=2)\n",
    "valloader = utils_data.DataLoader(valset, batch_size = batch_size, shuffle = True, num_workers=2)\n",
    "testloader = utils_data.DataLoader(testset, batch_size = batch_size, shuffle = True, num_workers=2)"
   ]
  },
  {
   "cell_type": "code",
   "execution_count": 44,
   "metadata": {},
   "outputs": [
    {
     "data": {
      "text/plain": [
       "100"
      ]
     },
     "execution_count": 44,
     "metadata": {},
     "output_type": "execute_result"
    }
   ],
   "source": [
    "len(valloader.sampler)"
   ]
  },
  {
   "cell_type": "code",
   "execution_count": 45,
   "metadata": {},
   "outputs": [],
   "source": [
    "# Function to train the model\n",
    "def fit(dataloader, model, phase = 'Training'):\n",
    "    \n",
    "    if phase == 'Training':\n",
    "        model.train()\n",
    "    if phase == 'Validation':\n",
    "        model.eval()\n",
    "     \n",
    "    running_loss = 0\n",
    "    running_pred = 0\n",
    "\n",
    "    for i, (images, labels) in enumerate(dataloader):\n",
    "\n",
    "\n",
    "        # Feeding data to GPU \n",
    "\n",
    "        if torch.cuda.is_available():\n",
    "            Images = Variable(images.to(device = cuda0))\n",
    "            Labels = Variable(labels.to(device = cuda0))\n",
    "            ones = torch.ones(Labels.size(), dtype = torch.long, device= cuda0)\n",
    "            zeros = torch.zeros(Labels.size(), dtype = torch.long, device= cuda0)\n",
    "        else:\n",
    "            Images = Variable(images)\n",
    "            Labels = Variable(labels)\n",
    "            ones = torch.ones(Labels.size(), dtype = torch.long)\n",
    "            zeros = torch.zeros(Labels.size(), dtype = torch.long)\n",
    "            \n",
    "            \n",
    "        #Forward\n",
    "        y_pred = model(Images)\n",
    "        y_pred_prob = torch.sigmoid(y_pred)\n",
    "\n",
    "        \n",
    "        #Loss Function\n",
    "        loss = criterion(y_pred, Labels.view(-1,1).float())\n",
    "        \n",
    "        running_loss += loss.data[0]\n",
    "        \n",
    "        if phase == 'Training':\n",
    "            #Backward\n",
    "            optimizer.zero_grad()\n",
    "            loss.backward()\n",
    "\n",
    "            #Update weights\n",
    "            optimizer.step()\n",
    "            \n",
    "        # Finding the number of correct predictions in the training set\n",
    "        \n",
    "        pred_labels = torch.where(y_pred_prob>=0.5, ones, zeros)\n",
    "\n",
    "        running_pred += (pred_labels[:,1].cpu() == Labels.data.cpu()).sum()\n",
    "\n",
    "\n",
    "\n",
    "    \n",
    "    acc = 100. * (running_pred.numpy()/len(dataloader.sampler))\n",
    "        \n",
    "    return running_loss/len(dataloader), acc"
   ]
  },
  {
   "cell_type": "code",
   "execution_count": 46,
   "metadata": {},
   "outputs": [],
   "source": [
    "input_dim = 3*32*32\n",
    "output_dim = 1\n",
    "learning_rate = 0.01 \n",
    "num_epochs = 20\n",
    "resnet = models.resnet101(pretrained = True)"
   ]
  },
  {
   "cell_type": "code",
   "execution_count": 47,
   "metadata": {},
   "outputs": [],
   "source": [
    "for param in resnet.parameters():\n",
    "    param.requires_grad = False"
   ]
  },
  {
   "cell_type": "code",
   "execution_count": 48,
   "metadata": {},
   "outputs": [
    {
     "name": "stderr",
     "output_type": "stream",
     "text": [
      "/home/imaniv2s/pytorch/lib/python3.6/site-packages/ipykernel_launcher.py:37: UserWarning: invalid index of a 0-dim tensor. This will be an error in PyTorch 0.5. Use tensor.item() to convert a 0-dim tensor to a Python number\n"
     ]
    },
    {
     "name": "stdout",
     "output_type": "stream",
     "text": [
      "Epoch: 0   Train Loss: 0.81244   Train Acc:65.28190%     Val Loss: 0.68791  Val Acc:66.00000% \n",
      "Epoch: 1   Train Loss: 0.63933   Train Acc:72.10682%     Val Loss: 0.81405  Val Acc:67.00000% \n",
      "Epoch: 2   Train Loss: 0.56859   Train Acc:74.48071%     Val Loss: 0.53538  Val Acc:72.00000% \n",
      "Epoch: 3   Train Loss: 0.60753   Train Acc:74.18398%     Val Loss: 1.07045  Val Acc:64.00000% \n",
      "Epoch: 4   Train Loss: 0.74650   Train Acc:70.32641%     Val Loss: 0.50038  Val Acc:80.00000% \n",
      "Epoch: 5   Train Loss: 0.55378   Train Acc:77.44807%     Val Loss: 0.49416  Val Acc:79.00000% \n",
      "Epoch: 6   Train Loss: 0.49941   Train Acc:78.43719%     Val Loss: 0.54993  Val Acc:79.00000% \n",
      "Epoch: 7   Train Loss: 0.51881   Train Acc:76.16222%     Val Loss: 0.62071  Val Acc:73.00000% \n",
      "Epoch: 8   Train Loss: 0.49879   Train Acc:78.53610%     Val Loss: 0.50974  Val Acc:76.00000% \n",
      "Epoch: 9   Train Loss: 0.39625   Train Acc:82.49258%     Val Loss: 0.58297  Val Acc:69.00000% \n",
      "Epoch: 10   Train Loss: 0.38197   Train Acc:81.70129%     Val Loss: 0.46928  Val Acc:76.00000% \n",
      "Epoch: 11   Train Loss: 0.35113   Train Acc:84.17409%     Val Loss: 0.50235  Val Acc:77.00000% \n",
      "Epoch: 12   Train Loss: 0.34655   Train Acc:83.97626%     Val Loss: 0.54575  Val Acc:78.00000% \n",
      "Epoch: 13   Train Loss: 0.37371   Train Acc:84.76756%     Val Loss: 0.49472  Val Acc:71.00000% \n",
      "Epoch: 14   Train Loss: 0.34676   Train Acc:84.76756%     Val Loss: 0.47056  Val Acc:76.00000% \n",
      "Epoch: 15   Train Loss: 0.32585   Train Acc:85.65776%     Val Loss: 0.60189  Val Acc:78.00000% \n",
      "Epoch: 16   Train Loss: 0.34654   Train Acc:83.38279%     Val Loss: 0.52450  Val Acc:75.00000% \n",
      "Epoch: 17   Train Loss: 0.33335   Train Acc:83.77844%     Val Loss: 0.52708  Val Acc:73.00000% \n",
      "Epoch: 18   Train Loss: 0.34400   Train Acc:85.85559%     Val Loss: 0.49518  Val Acc:74.00000% \n",
      "Epoch: 19   Train Loss: 0.34975   Train Acc:84.37191%     Val Loss: 0.54873  Val Acc:75.00000% \n"
     ]
    }
   ],
   "source": [
    "# Changing the output dim of last layer of network\n",
    "num_features = resnet.fc.in_features\n",
    "resnet.fc = nn.Linear(num_features, output_dim)\n",
    "\n",
    "if torch.cuda.is_available():\n",
    "    resnet.to(device = cuda0)\n",
    "\n",
    "criterion = nn.BCEWithLogitsLoss()\n",
    "\n",
    "if torch.cuda.is_available():\n",
    "    criterion = criterion.to(device = cuda0)\n",
    "    \n",
    "optimizer = optim.Adam(resnet.fc.parameters(), lr = learning_rate)\n",
    "scheduler = optim.lr_scheduler.ReduceLROnPlateau(optimizer, 'min', patience =2)\n",
    "\n",
    "best_acc = 0\n",
    "best_model_params = resnet.state_dict()\n",
    "train_loss_values =[]\n",
    "train_acc_values =[]\n",
    "\n",
    "val_loss_values =[]\n",
    "val_acc_values =[]\n",
    "\n",
    "for epoch in range(num_epochs):   \n",
    "    \n",
    "    train_loss, train_acc = fit(trainloader, resnet, phase = 'Training')  # Training set accuracy\n",
    "    train_loss_values.append(train_loss)\n",
    "    train_acc_values.append(train_acc)\n",
    "\n",
    "    val_loss, val_acc = fit(valloader, resnet, phase = 'Validation')  # Validation set loss & accuracy\n",
    "    val_loss_values.append(val_loss)\n",
    "    val_acc_values.append(val_acc)\n",
    "    \n",
    "    if val_acc > best_acc:\n",
    "        best_acc = val_acc\n",
    "        best_model_params = copy.deepcopy(resnet.state_dict())\n",
    "    \n",
    "    scheduler.step(val_loss)\n",
    "    \n",
    "    \n",
    "    print(f'Epoch: {epoch}   Train Loss: {train_loss.cpu().numpy():.5f}   Train Acc:{train_acc:.5f}% \\\n",
    "    Val Loss: {val_loss.cpu().numpy():.5f}  Val Acc:{val_acc:.5f}% ')"
   ]
  },
  {
   "cell_type": "code",
   "execution_count": 49,
   "metadata": {},
   "outputs": [],
   "source": [
    "resnet.load_state_dict(best_model_params)\n",
    "torch.save(resnet.state_dict(), \"Resnet_for_soccer_ball.th\")"
   ]
  },
  {
   "cell_type": "code",
   "execution_count": 50,
   "metadata": {},
   "outputs": [
    {
     "data": {
      "text/plain": [
       "Text(0,0.5,'Percentage Accuracy')"
      ]
     },
     "execution_count": 50,
     "metadata": {},
     "output_type": "execute_result"
    },
    {
     "data": {
      "image/png": "[encoded data removed]",
      "text/plain": [
       "<Figure size 864x360 with 2 Axes>"
      ]
     },
     "metadata": {},
     "output_type": "display_data"
    }
   ],
   "source": [
    "#Plotting the cost function\n",
    "fig = plt.figure(figsize=(12,5))\n",
    "ax = fig.add_subplot(1,2,1)\n",
    "ax.set_title(\"Loss\")\n",
    "ax.plot(train_loss_values, '-', color='green')\n",
    "ax.plot(val_loss_values, '-', color='blue')\n",
    "ax.set_xlabel(\"Epochs\")\n",
    "ax.set_ylabel(\"Loss\")\n",
    "#ax.set_yscale('log')\n",
    "\n",
    "ax1 = fig.add_subplot(1,2,2)\n",
    "ax1.set_title(\"Accuracy\")\n",
    "ax1.plot(train_acc_values, '-', color='green')\n",
    "ax1.plot(val_acc_values, '-', color='blue')\n",
    "ax1.legend(['train_acc', 'val_acc', 'test_acc'],loc='best')\n",
    "ax1.set_xlabel(\"Epochs\")\n",
    "ax1.set_ylabel(\"Percentage Accuracy\")"
   ]
  },
  {
   "cell_type": "code",
   "execution_count": 51,
   "metadata": {},
   "outputs": [],
   "source": [
    "# Function to get predictions for test data and the accuracy on it\n",
    "def predict(model, testloader):\n",
    "    \n",
    "    model.eval()\n",
    "    pred_val = 0\n",
    "    prediction_array = np.array([])\n",
    "    labels_array = np.array([])\n",
    "    running_pred = 0\n",
    "    \n",
    "    for images, labels in testloader:\n",
    "\n",
    "        # Feeding data to GPU \n",
    "\n",
    "        if torch.cuda.is_available():\n",
    "            Images = Variable(images.cuda())\n",
    "            Labels = Variable(labels.cuda())\n",
    "            ones = torch.ones(Labels.size(), dtype = torch.long, device= cuda0)\n",
    "            zeros = torch.zeros(Labels.size(), dtype = torch.long, device= cuda0)\n",
    "        else:\n",
    "            Images = Variable(images)\n",
    "            Labels = Variable(labels)\n",
    "            ones = torch.ones(Labels.size(), dtype = torch.long)\n",
    "            zeros = torch.zeros(Labels.size(), dtype = torch.long)\n",
    "\n",
    "        #Forward\n",
    "        y_pred_prob = model(Images)\n",
    "        \n",
    "        # Finding the number of correct predictions in the test set\n",
    "        \n",
    "        pred_labels = torch.where(y_pred_prob>=0.5, ones, zeros)\n",
    "\n",
    "        pred_val += (pred_labels[:,1].cpu() == Labels.data.cpu()).sum()\n",
    "        \n",
    "        # Storing predictions and true labels in numpy arrays for printing confusion matrix\n",
    "        prediction_array = np.append(prediction_array, pred_labels[:,1].cpu().numpy(), axis =0)\n",
    "        labels_array = np.append(labels_array, Labels.data.cpu().numpy(), axis = 0)\n",
    "        \n",
    "\n",
    "    Test_acc = 100. * (pred_val.numpy()/len(testloader.sampler))\n",
    "    return Test_acc, prediction_array, labels_array\n",
    "   "
   ]
  },
  {
   "cell_type": "code",
   "execution_count": 52,
   "metadata": {},
   "outputs": [
    {
     "name": "stdout",
     "output_type": "stream",
     "text": [
      "Test Accuracy:70.58824% \n"
     ]
    }
   ],
   "source": [
    "Test_acc, Predicted_labels, True_labels = predict(resnet,testloader) # Test set accuracy\n",
    "\n",
    "print(f'Test Accuracy:{Test_acc:.5f}% ')"
   ]
  },
  {
   "cell_type": "code",
   "execution_count": 53,
   "metadata": {},
   "outputs": [
    {
     "name": "stdout",
     "output_type": "stream",
     "text": [
      "[[103   0]\n",
      " [ 60  41]]\n"
     ]
    }
   ],
   "source": [
    "#Confusion matrix\n",
    "from sklearn.metrics import confusion_matrix\n",
    "cm = confusion_matrix(True_labels, Predicted_labels)\n",
    "print(cm)"
   ]
  },
  {
   "cell_type": "code",
   "execution_count": 56,
   "metadata": {},
   "outputs": [
    {
     "name": "stdout",
     "output_type": "stream",
     "text": [
      "['with_ball', 'without_ball']\n"
     ]
    },
    {
     "data": {
      "image/png": "[encoded data removed]",
      "text/plain": [
       "<Figure size 576x576 with 2 Axes>"
      ]
     },
     "metadata": {},
     "output_type": "display_data"
    }
   ],
   "source": [
    "# Plotting confusion matrix\n",
    "import itertools\n",
    "def plot_confusion_matrix(cm, classes):\n",
    "    \n",
    "    cmap = plt.get_cmap('Greens')\n",
    "    plt.figure(figsize=(8,8))\n",
    "    plt.imshow(cm, cmap = cmap, interpolation = 'nearest')\n",
    "    plt.colorbar()\n",
    "    \n",
    "    tick_marks = np.arange(len(classes))\n",
    "    plt.xticks(tick_marks, classes)\n",
    "    plt.yticks(tick_marks, classes)\n",
    "    print(classes)\n",
    "    plt.xlabel(\"Predicted Values\")\n",
    "    plt.ylabel(\"True Values\")\n",
    "    \n",
    "    threshold = cm.max()/2\n",
    "    \n",
    "    for i, j in itertools.product(range(cm.shape[0]), range(cm.shape[1])):\n",
    "        \n",
    "        plt.text(i, j, f'{cm[i, j]}' , horizontalalignment = 'center', \n",
    "                 color=\"white\" if cm[i, j] < threshold else \"black\")\n",
    "\n",
    "plot_confusion_matrix(cm.T, ['with_ball', 'without_ball'])"
   ]
  },
  {
   "cell_type": "code",
   "execution_count": null,
   "metadata": {},
   "outputs": [],
   "source": [
    "a = torch.tensor([[1,0,1],[1,0,1],[4,3,2]])\n",
    "b = torch.tensor([[-1,0,1],[1,0,1],[1,2,3]])\n"
   ]
  }
 ],
 "metadata": {
  "kernelspec": {
   "display_name": "Python 3",
   "language": "python",
   "name": "python3"
  },
  "language_info": {
   "codemirror_mode": {
    "name": "ipython",
    "version": 3
   },
   "file_extension": ".py",
   "mimetype": "text/x-python",
   "name": "python",
   "nbconvert_exporter": "python",
   "pygments_lexer": "ipython3",
   "version": "3.6.6"
  }
 },
 "nbformat": 4,
 "nbformat_minor": 2
}
