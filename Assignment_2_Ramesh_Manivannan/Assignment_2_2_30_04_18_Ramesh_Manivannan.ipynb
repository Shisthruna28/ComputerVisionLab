{
 "cells": [
  {
   "cell_type": "markdown",
   "metadata": {},
   "source": [
    "### Logistci Regression using Pytorch - CIFAR10 (with k fold Cross validation)###\n",
    "1.Iswariya Manivannan<br>\n",
    "2.Sathiya Ramesh"
   ]
  },
  {
   "cell_type": "code",
   "execution_count": 2,
   "metadata": {},
   "outputs": [],
   "source": [
    "import torch\n",
    "import skorch # A pytorch wrapper for using sklearn\n",
    "import torch.nn as nn\n",
    "import torch.optim as optim\n",
    "import torchvision.transforms as transforms\n",
    "import torchvision.datasets as dsets\n",
    "\n",
    "from sklearn.model_selection import GridSearchCV\n",
    "from sklearn.model_selection import learning_curve\n",
    "from skorch.callbacks import EpochScoring\n",
    "from skorch import NeuralNetClassifier\n",
    "from skorch import utils\n",
    "\n",
    "%matplotlib inline\n",
    "import matplotlib.pyplot as plt \n",
    "import numpy as np\n",
    "\n",
    "torch.manual_seed(40)\n",
    "torch.cuda.manual_seed(40)\n",
    "np.random.seed(2)"
   ]
  },
  {
   "cell_type": "code",
   "execution_count": 3,
   "metadata": {},
   "outputs": [
    {
     "name": "stdout",
     "output_type": "stream",
     "text": [
      "Files already downloaded and verified\n",
      "Files already downloaded and verified\n"
     ]
    }
   ],
   "source": [
    "# Normalizing the output PIL Image of Torchvision dataset from [0,1] to [-1,1]\n",
    "transform = transforms.Compose([transforms.ToTensor(),transforms.Normalize((0.5, 0.5, 0.5), (0.5, 0.5, 0.5))])\n",
    "\n",
    "trainset = dsets.CIFAR10('./data', train=True, download=True, transform=transform)\n",
    "testset = dsets.CIFAR10('./data', train=False, download=True, transform=transform)\n",
    "\n",
    "classes = ('plane', 'car', 'bird', 'cat','deer', 'dog', 'frog', 'horse', 'ship', 'truck')"
   ]
  },
  {
   "cell_type": "code",
   "execution_count": 4,
   "metadata": {},
   "outputs": [],
   "source": [
    "# Function to separate the data in trainset/testset as images and labels\n",
    "def dataloader(dataset):\n",
    "    images_labels = zip(*dataset)\n",
    "    images_labels = list(images_labels)\n",
    "    X = list(images_labels[0])\n",
    "    y = list(images_labels[1])\n",
    "    images = np.stack(X, axis =0)\n",
    "    labels = np.asarray(y)\n",
    "\n",
    "    images = np.reshape(images, (-1, 32*32*3))\n",
    "    print(images.shape)\n",
    "    \n",
    "    return images, labels"
   ]
  },
  {
   "cell_type": "code",
   "execution_count": 5,
   "metadata": {},
   "outputs": [
    {
     "name": "stdout",
     "output_type": "stream",
     "text": [
      "(50000, 3072)\n",
      "(10000, 3072)\n"
     ]
    }
   ],
   "source": [
    "X_train, y_train = dataloader(trainset)\n",
    "X_test, y_test = dataloader(testset)"
   ]
  },
  {
   "cell_type": "code",
   "execution_count": 6,
   "metadata": {},
   "outputs": [],
   "source": [
    "# 2 layer Logistic Regression Model which has one Hidden layer with Relu activation and an Output layer\n",
    "class LogisticRegression_model(nn.Module):\n",
    "    \n",
    "    def __init__(self, input_dim, output_dim, num_units):\n",
    "        \n",
    "        super(LogisticRegression_model, self).__init__()\n",
    "        \n",
    "        self.linear1 = nn.Linear(input_dim, num_units)\n",
    "        self.linear2 = nn.Linear(num_units, output_dim)\n",
    "        self.relu = nn.ReLU()\n",
    "        \n",
    "    def forward(self, x):\n",
    "        \n",
    "        x = self.relu(self.linear1(x))\n",
    "        x = self.linear2(x)\n",
    "        return x"
   ]
  },
  {
   "cell_type": "code",
   "execution_count": 9,
   "metadata": {},
   "outputs": [],
   "source": [
    "input_dim = 32*32*3\n",
    "output_dim = 10  \n",
    "num_units = 1024  # no of units in hidden layer 1\n",
    "model = NeuralNetClassifier(module = LogisticRegression_model, module__input_dim = input_dim, module__output_dim = output_dim,\n",
    "                            module__num_units = num_units, max_epochs = 30, lr = 0.0001, batch_size = 512,\n",
    "                            criterion=nn.CrossEntropyLoss, device = 'cuda',\n",
    "                            optimizer = optim.Adam, verbose =2) # Set verbose to 2 while running fit"
   ]
  },
  {
   "cell_type": "code",
   "execution_count": 10,
   "metadata": {},
   "outputs": [
    {
     "name": "stdout",
     "output_type": "stream",
     "text": [
      "  epoch    train_loss    valid_acc    valid_loss      dur\n",
      "-------  ------------  -----------  ------------  -------\n",
      "      1        \u001b[36m1.8259\u001b[0m       \u001b[32m0.4228\u001b[0m        \u001b[35m1.6543\u001b[0m  12.3749\n",
      "      2        \u001b[36m1.6089\u001b[0m       \u001b[32m0.4549\u001b[0m        \u001b[35m1.5695\u001b[0m  11.4016\n",
      "      3        \u001b[36m1.5290\u001b[0m       \u001b[32m0.4711\u001b[0m        \u001b[35m1.5248\u001b[0m  11.0095\n",
      "      4        \u001b[36m1.4729\u001b[0m       \u001b[32m0.4813\u001b[0m        \u001b[35m1.4930\u001b[0m  11.0106\n",
      "      5        \u001b[36m1.4273\u001b[0m       \u001b[32m0.4926\u001b[0m        \u001b[35m1.4680\u001b[0m  11.0906\n",
      "      6        \u001b[36m1.3877\u001b[0m       \u001b[32m0.4978\u001b[0m        \u001b[35m1.4474\u001b[0m  11.2246\n",
      "      7        \u001b[36m1.3524\u001b[0m       \u001b[32m0.5027\u001b[0m        \u001b[35m1.4300\u001b[0m  11.0013\n",
      "      8        \u001b[36m1.3204\u001b[0m       \u001b[32m0.5090\u001b[0m        \u001b[35m1.4159\u001b[0m  11.0157\n",
      "      9        \u001b[36m1.2908\u001b[0m       \u001b[32m0.5138\u001b[0m        \u001b[35m1.4036\u001b[0m  11.5520\n",
      "     10        \u001b[36m1.2633\u001b[0m       \u001b[32m0.5156\u001b[0m        \u001b[35m1.3932\u001b[0m  11.6971\n",
      "     11        \u001b[36m1.2376\u001b[0m       \u001b[32m0.5186\u001b[0m        \u001b[35m1.3843\u001b[0m  12.0652\n",
      "     12        \u001b[36m1.2132\u001b[0m       \u001b[32m0.5209\u001b[0m        \u001b[35m1.3765\u001b[0m  13.4823\n",
      "     13        \u001b[36m1.1899\u001b[0m       \u001b[32m0.5224\u001b[0m        \u001b[35m1.3699\u001b[0m  11.9662\n",
      "     14        \u001b[36m1.1676\u001b[0m       \u001b[32m0.5259\u001b[0m        \u001b[35m1.3643\u001b[0m  12.5923\n",
      "     15        \u001b[36m1.1461\u001b[0m       \u001b[32m0.5274\u001b[0m        \u001b[35m1.3593\u001b[0m  12.2929\n",
      "     16        \u001b[36m1.1253\u001b[0m       0.5274        \u001b[35m1.3550\u001b[0m  14.0495\n",
      "     17        \u001b[36m1.1051\u001b[0m       \u001b[32m0.5289\u001b[0m        \u001b[35m1.3513\u001b[0m  14.3857\n",
      "     18        \u001b[36m1.0855\u001b[0m       \u001b[32m0.5294\u001b[0m        \u001b[35m1.3478\u001b[0m  12.5259\n"
     ]
    }
   ],
   "source": [
    "estimator = model.fit(X_train, y_train)"
   ]
  },
  {
   "cell_type": "code",
   "execution_count": 8,
   "metadata": {},
   "outputs": [
    {
     "name": "stdout",
     "output_type": "stream",
     "text": [
      "Test set Accuracy : 53.44\n"
     ]
    }
   ],
   "source": [
    "# Getting predictions for testset data\n",
    "y_pred = model.predict(X_test)\n",
    "accuracy = np.mean(y_pred == y_test)\n",
    "print(f'Test set Accuracy : {accuracy*100}')"
   ]
  },
  {
   "cell_type": "code",
   "execution_count": 15,
   "metadata": {},
   "outputs": [
    {
     "name": "stdout",
     "output_type": "stream",
     "text": [
      "dict_keys(['batches', 'epoch', 'dur', 'train_loss', 'train_loss_best', 'valid_loss', 'valid_loss_best', 'valid_acc', 'valid_acc_best'])\n"
     ]
    }
   ],
   "source": [
    "print(model.history[1].keys())"
   ]
  },
  {
   "cell_type": "code",
   "execution_count": 9,
   "metadata": {},
   "outputs": [
    {
     "data": {
      "text/plain": [
       "<matplotlib.legend.Legend at 0x7f9670ac87b8>"
      ]
     },
     "execution_count": 9,
     "metadata": {},
     "output_type": "execute_result"
    },
    {
     "data": {
      "image/png": "[encoded data removed]",
      "text/plain": [
       "<matplotlib.figure.Figure at 0x7f9679e58400>"
      ]
     },
     "metadata": {},
     "output_type": "display_data"
    }
   ],
   "source": [
    "#Plotting learing curve\n",
    "fig = plt.figure(figsize=(12,5))\n",
    "ax = fig.add_subplot(1,2,1)\n",
    "ax.set_title(\"Cost Function\")\n",
    "ax.plot(model.history[:,'train_loss'], '-', color='green')\n",
    "ax.plot(model.history[:,'valid_loss'], '-', color='blue')\n",
    "ax.set_xlabel(\"Epochs\")\n",
    "ax.set_ylabel(\"Cost\")\n",
    "ax.legend(['train_loss', 'valid_loss'])\n"
   ]
  },
  {
   "cell_type": "code",
   "execution_count": 13,
   "metadata": {},
   "outputs": [
    {
     "name": "stdout",
     "output_type": "stream",
     "text": [
      "Fitting 3 folds for each of 8 candidates, totalling 24 fits\n",
      "[CV] lr=0.001, max_epochs=20, module__num_units=512 ..................\n",
      "[CV] ... lr=0.001, max_epochs=20, module__num_units=512, total= 1.1min\n",
      "[CV] lr=0.001, max_epochs=20, module__num_units=512 ..................\n"
     ]
    },
    {
     "name": "stderr",
     "output_type": "stream",
     "text": [
      "[Parallel(n_jobs=1)]: Done   1 out of   1 | elapsed:  1.2min remaining:    0.0s\n"
     ]
    },
    {
     "name": "stdout",
     "output_type": "stream",
     "text": [
      "[CV] ... lr=0.001, max_epochs=20, module__num_units=512, total= 1.2min\n",
      "[CV] lr=0.001, max_epochs=20, module__num_units=512 ..................\n",
      "[CV] ... lr=0.001, max_epochs=20, module__num_units=512, total= 1.1min\n",
      "[CV] lr=0.001, max_epochs=20, module__num_units=1024 .................\n",
      "[CV] .. lr=0.001, max_epochs=20, module__num_units=1024, total= 1.3min\n",
      "[CV] lr=0.001, max_epochs=20, module__num_units=1024 .................\n",
      "[CV] .. lr=0.001, max_epochs=20, module__num_units=1024, total= 1.3min\n",
      "[CV] lr=0.001, max_epochs=20, module__num_units=1024 .................\n",
      "[CV] .. lr=0.001, max_epochs=20, module__num_units=1024, total= 1.3min\n",
      "[CV] lr=0.001, max_epochs=40, module__num_units=512 ..................\n",
      "[CV] ... lr=0.001, max_epochs=40, module__num_units=512, total= 2.3min\n",
      "[CV] lr=0.001, max_epochs=40, module__num_units=512 ..................\n",
      "[CV] ... lr=0.001, max_epochs=40, module__num_units=512, total= 2.2min\n",
      "[CV] lr=0.001, max_epochs=40, module__num_units=512 ..................\n",
      "[CV] ... lr=0.001, max_epochs=40, module__num_units=512, total= 2.3min\n",
      "[CV] lr=0.001, max_epochs=40, module__num_units=1024 .................\n",
      "[CV] .. lr=0.001, max_epochs=40, module__num_units=1024, total= 2.6min\n",
      "[CV] lr=0.001, max_epochs=40, module__num_units=1024 .................\n",
      "[CV] .. lr=0.001, max_epochs=40, module__num_units=1024, total= 2.7min\n",
      "[CV] lr=0.001, max_epochs=40, module__num_units=1024 .................\n",
      "[CV] .. lr=0.001, max_epochs=40, module__num_units=1024, total= 2.9min\n",
      "[CV] lr=0.0001, max_epochs=20, module__num_units=512 .................\n",
      "[CV] .. lr=0.0001, max_epochs=20, module__num_units=512, total= 1.2min\n",
      "[CV] lr=0.0001, max_epochs=20, module__num_units=512 .................\n",
      "[CV] .. lr=0.0001, max_epochs=20, module__num_units=512, total= 1.3min\n",
      "[CV] lr=0.0001, max_epochs=20, module__num_units=512 .................\n",
      "[CV] .. lr=0.0001, max_epochs=20, module__num_units=512, total= 1.2min\n",
      "[CV] lr=0.0001, max_epochs=20, module__num_units=1024 ................\n",
      "[CV] . lr=0.0001, max_epochs=20, module__num_units=1024, total= 1.3min\n",
      "[CV] lr=0.0001, max_epochs=20, module__num_units=1024 ................\n",
      "[CV] . lr=0.0001, max_epochs=20, module__num_units=1024, total= 1.4min\n",
      "[CV] lr=0.0001, max_epochs=20, module__num_units=1024 ................\n",
      "[CV] . lr=0.0001, max_epochs=20, module__num_units=1024, total= 1.4min\n",
      "[CV] lr=0.0001, max_epochs=40, module__num_units=512 .................\n",
      "[CV] .. lr=0.0001, max_epochs=40, module__num_units=512, total= 2.5min\n",
      "[CV] lr=0.0001, max_epochs=40, module__num_units=512 .................\n",
      "[CV] .. lr=0.0001, max_epochs=40, module__num_units=512, total= 2.3min\n",
      "[CV] lr=0.0001, max_epochs=40, module__num_units=512 .................\n",
      "[CV] .. lr=0.0001, max_epochs=40, module__num_units=512, total= 2.3min\n",
      "[CV] lr=0.0001, max_epochs=40, module__num_units=1024 ................\n",
      "[CV] . lr=0.0001, max_epochs=40, module__num_units=1024, total= 2.7min\n",
      "[CV] lr=0.0001, max_epochs=40, module__num_units=1024 ................\n",
      "[CV] . lr=0.0001, max_epochs=40, module__num_units=1024, total= 2.7min\n",
      "[CV] lr=0.0001, max_epochs=40, module__num_units=1024 ................\n",
      "[CV] . lr=0.0001, max_epochs=40, module__num_units=1024, total= 2.8min\n"
     ]
    },
    {
     "name": "stderr",
     "output_type": "stream",
     "text": [
      "[Parallel(n_jobs=1)]: Done  24 out of  24 | elapsed: 46.3min finished\n"
     ]
    },
    {
     "data": {
      "text/plain": [
       "GridSearchCV(cv=3, error_score='raise',\n",
       "       estimator=<class 'skorch.net.NeuralNetClassifier'>[uninitialized](\n",
       "  module=<class '__main__.LogisticRegression_model'>,\n",
       "  module__input_dim=3072,\n",
       "  module__num_units=1024,\n",
       "  module__output_dim=10,\n",
       "),\n",
       "       fit_params=None, iid=True, n_jobs=1,\n",
       "       param_grid={'lr': [0.001, 0.0001], 'module__num_units': [512, 1024], 'max_epochs': [20, 40]},\n",
       "       pre_dispatch='2*n_jobs', refit=True, return_train_score='warn',\n",
       "       scoring='accuracy', verbose=2)"
      ]
     },
     "execution_count": 13,
     "metadata": {},
     "output_type": "execute_result"
    }
   ],
   "source": [
    "# Performing cross validation with a list of parameters in order to find the best ones\n",
    "params = { 'lr': [0.001, 0.0001], 'module__num_units' : [512, 1024], 'max_epochs' : [20, 40] }\n",
    "# Need to set verbose = 0 in model to prevent long outputs\n",
    "estimator_cv = GridSearchCV(model, params, refit = True, cv =3, scoring = 'accuracy', verbose =2)\n",
    "estimator_cv.fit(X_train, y_train)"
   ]
  },
  {
   "cell_type": "code",
   "execution_count": 17,
   "metadata": {},
   "outputs": [
    {
     "name": "stdout",
     "output_type": "stream",
     "text": [
      "Best Score: 0.5188    Best Params: {'lr': 0.0001, 'max_epochs': 40, 'module__num_units': 1024}\n"
     ]
    }
   ],
   "source": [
    "print(f\"Best Score: {estimator_cv.best_score_}    Best Params: {estimator_cv.best_params_}\")"
   ]
  },
  {
   "cell_type": "code",
   "execution_count": null,
   "metadata": {},
   "outputs": [],
   "source": []
  }
 ],
 "metadata": {
  "kernelspec": {
   "display_name": "Python 3",
   "language": "python",
   "name": "python3"
  },
  "language_info": {
   "codemirror_mode": {
    "name": "ipython",
    "version": 3
   },
   "file_extension": ".py",
   "mimetype": "text/x-python",
   "name": "python",
   "nbconvert_exporter": "python",
   "pygments_lexer": "ipython3",
   "version": "3.6.4"
  }
 },
 "nbformat": 4,
 "nbformat_minor": 2
}
