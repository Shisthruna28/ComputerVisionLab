{
 "cells": [
  {
   "cell_type": "markdown",
   "metadata": {},
   "source": [
    "### Logistci Regression using Pytorch - CIFAR10 ###\n",
    "1.Iswariya Manivannan<br>\n",
    "2.Sathiya Ramesh"
   ]
  },
  {
   "cell_type": "code",
   "execution_count": 1,
   "metadata": {},
   "outputs": [],
   "source": [
    "import torch\n",
    "import torch.nn as nn\n",
    "import torch.optim as optim\n",
    "import torchvision.transforms as transforms\n",
    "import torchvision.datasets as dsets\n",
    "from torch.autograd import Variable\n",
    "import torch.utils.data as utils_data\n",
    "from torch.utils.data.sampler import SubsetRandomSampler\n",
    "%matplotlib inline\n",
    "import matplotlib.pyplot as plt \n",
    "import numpy as np\n",
    "\n",
    "torch.manual_seed(40)\n",
    "torch.cuda.manual_seed(40)\n",
    "np.random.seed(2)"
   ]
  },
  {
   "cell_type": "code",
   "execution_count": 11,
   "metadata": {},
   "outputs": [
    {
     "name": "stdout",
     "output_type": "stream",
     "text": [
      "Files already downloaded and verified\n",
      "Files already downloaded and verified\n"
     ]
    }
   ],
   "source": [
    "# Normalizing the output PIL Image of Torchvision dataset from [0,1] to [-1,1]\n",
    "transform = transforms.Compose([transforms.ColorJitter(brightness= 5, contrast= 5),transforms.ToTensor(),transforms.Normalize((0.5, 0.5, 0.5), (0.5, 0.5, 0.5))])\n",
    "\n",
    "trainset = dsets.CIFAR10('./data', train=True, download=True, transform=transform)\n",
    "testset = dsets.CIFAR10('./data', train=False, download=True, transform=transform)\n",
    "\n",
    "\n",
    "classes = ('plane', 'car', 'bird', 'cat','deer', 'dog', 'frog', 'horse', 'ship', 'truck')"
   ]
  },
  {
   "cell_type": "code",
   "execution_count": 12,
   "metadata": {},
   "outputs": [],
   "source": [
    "# Implementation of Validation split using SubsetRandomSampler in Pytorch\n",
    "\n",
    "train_set_size = int(0.8 * len(trainset))    # Train set - Val set split is 80% - 20%\n",
    "train_indices = np.random.choice(np.arange(len(trainset)), train_set_size, replace = False)  # Getting the random 80% of train data from train set\n",
    "train_sampler = SubsetRandomSampler(train_indices)\n",
    "\n",
    "# Getting the 20% val data not present in train indices\n",
    "val_indices = np.setdiff1d(np.arange(len(trainset)), train_indices, assume_unique= True)\n",
    "val_sampler = SubsetRandomSampler(val_indices)\n",
    "#print(np.any(np.isin(train_indices, val_indices)))"
   ]
  },
  {
   "cell_type": "code",
   "execution_count": 13,
   "metadata": {
    "collapsed": true
   },
   "outputs": [],
   "source": [
    "batch_size = 512\n",
    "learning_rate = 0.0001\n",
    "\n",
    "num_epochs = 50\n",
    "\n",
    "trainloader = utils_data.DataLoader(trainset, batch_size = batch_size, sampler=train_sampler, num_workers=2)\n",
    "valloader = utils_data.DataLoader(trainset, batch_size = batch_size, sampler=val_sampler, num_workers=2)\n",
    "testloader = utils_data.DataLoader(testset, batch_size = batch_size, shuffle = True, num_workers=2)\n"
   ]
  },
  {
   "cell_type": "code",
   "execution_count": 5,
   "metadata": {
    "collapsed": true
   },
   "outputs": [],
   "source": [
    "# 2 layer Logistic Regression Model which has one Hidden layer with Relu activation and an Output layer\n",
    "class LogisticRegression_model(nn.Module):\n",
    "    \n",
    "    def __init__(self, input_dim, output_dim):\n",
    "        \n",
    "        super(LogisticRegression_model, self).__init__()\n",
    "        \n",
    "        self.linear1 = nn.Linear(input_dim, 1024)\n",
    "        self.linear2 = nn.Linear(1024, output_dim)\n",
    "        self.relu = nn.ReLU()\n",
    "        \n",
    "    def forward(self, x):\n",
    "        \n",
    "        x = self.relu(self.linear1(x))\n",
    "        x = self.linear2(x)\n",
    "        return x\n"
   ]
  },
  {
   "cell_type": "code",
   "execution_count": 6,
   "metadata": {},
   "outputs": [],
   "source": [
    "# Function to calculate test accuracy\n",
    "def Test(dataloader):\n",
    "    model.eval()\n",
    "    correct_pred = 0\n",
    "    total = 0\n",
    "    total_loss = 0\n",
    "    prediction_array = np.array([])\n",
    "    labels_array = np.array([])\n",
    "    iter = 0\n",
    "    for images, labels in dataloader:\n",
    "        \n",
    "        if torch.cuda.is_available():\n",
    "            \n",
    "            test_images = Variable(images.view(-1, 32*32*3).cuda())\n",
    "            labels = Variable(labels.cuda())\n",
    "        else:\n",
    "            test_images = Variable(images.view(-1, 32*32*3))\n",
    "            labels = Variable(labels)\n",
    "         \n",
    "        # Getting the model predictions\n",
    "        y_pred = model(test_images)\n",
    "        loss = criterion(y_pred, labels)\n",
    "        total_loss += loss.data[0]\n",
    "        _, pred_class = torch.max(y_pred.data, 1)\n",
    "\n",
    "        # Storing predictions and true labels in numpy arrays for printing confusion matrix\n",
    "        prediction_array = np.append(prediction_array, pred_class.cpu().numpy(), axis =0)\n",
    "        labels_array = np.append(labels_array, labels.data.cpu().numpy(), axis = 0)\n",
    "        iter +=1\n",
    "        correct_pred += (pred_class.cpu() == labels.data.cpu()).sum()\n",
    "        total += labels.size(0)\n",
    "        \n",
    "\n",
    "    accuracy = 100. * (correct_pred.numpy()/total)\n",
    "                                   \n",
    "    return total_loss/len(dataloader), accuracy, prediction_array, labels_array"
   ]
  },
  {
   "cell_type": "code",
   "execution_count": 7,
   "metadata": {
    "collapsed": true
   },
   "outputs": [],
   "source": [
    "# Function to train the Model\n",
    "def Train(trainloader):\n",
    "    model.train()\n",
    "    correct_pred = 0\n",
    "    total_no_labels = 0\n",
    "    total_train_loss = 0\n",
    "    iter = 0\n",
    "    \n",
    "    for i, (images, labels) in enumerate(trainloader):\n",
    "\n",
    "        # Feeding data to GPU \n",
    "\n",
    "        if torch.cuda.is_available():\n",
    "            train_images = Variable(images.view(-1, 3*32*32).cuda())\n",
    "            train_labels = Variable(labels.cuda())\n",
    "        else:\n",
    "            train_images = Variable(images.view(-1, 3*32*32))\n",
    "            train_labels = Variable(labels)\n",
    "       \n",
    "        #Forward\n",
    "        y_pred = model(train_images)\n",
    "        \n",
    "        #Loss Function\n",
    "        loss = criterion(y_pred, train_labels)\n",
    "        total_train_loss += loss.data[0]\n",
    "        \n",
    "        \n",
    "        #Backward\n",
    "        optimizer.zero_grad()\n",
    "        loss.backward()\n",
    "        iter +=1\n",
    "        #Update weights\n",
    "        optimizer.step()\n",
    "        \n",
    "        \n",
    "        # Finding the number of correct predictions in the training set\n",
    "        _, pred_class = torch.max(y_pred.data, 1)\n",
    "\n",
    "        correct_pred += (pred_class.cpu() == train_labels.data.cpu()).sum()\n",
    "        total_no_labels += labels.size(0)\n",
    "\n",
    "    train_acc = 100. * (correct_pred.numpy()/total_no_labels)\n",
    "    return total_train_loss/len(trainloader), train_acc\n",
    "    \n"
   ]
  },
  {
   "cell_type": "code",
   "execution_count": 8,
   "metadata": {},
   "outputs": [
    {
     "name": "stderr",
     "output_type": "stream",
     "text": [
      "/home/iswariya/anaconda3/envs/tensorflow/lib/python3.6/site-packages/ipykernel_launcher.py:25: UserWarning: invalid index of a 0-dim tensor. This will be an error in PyTorch 0.5. Use tensor.item() to convert a 0-dim tensor to a Python number\n",
      "/home/iswariya/anaconda3/envs/tensorflow/lib/python3.6/site-packages/ipykernel_launcher.py:23: UserWarning: invalid index of a 0-dim tensor. This will be an error in PyTorch 0.5. Use tensor.item() to convert a 0-dim tensor to a Python number\n"
     ]
    },
    {
     "name": "stdout",
     "output_type": "stream",
     "text": [
      "Epoch: 0   Train Loss: 1.81167   Train Acc:36.88500%    Val Loss: 1.66190  Val Acc:41.87000%   Test Acc: 42.96000% \n",
      "Epoch: 1   Train Loss: 1.60420   Train Acc:44.62250%    Val Loss: 1.56955  Val Acc:45.75000%   Test Acc: 45.99000% \n"
     ]
    },
    {
     "name": "stderr",
     "output_type": "stream",
     "text": [
      "Process Process-13:\n",
      "Process Process-14:\n",
      "Traceback (most recent call last):\n",
      "  File \"/home/iswariya/anaconda3/envs/tensorflow/lib/python3.6/multiprocessing/process.py\", line 258, in _bootstrap\n",
      "    self.run()\n",
      "  File \"/home/iswariya/anaconda3/envs/tensorflow/lib/python3.6/multiprocessing/process.py\", line 93, in run\n",
      "    self._target(*self._args, **self._kwargs)\n",
      "  File \"/home/iswariya/anaconda3/envs/tensorflow/lib/python3.6/site-packages/torch/utils/data/dataloader.py\", line 57, in _worker_loop\n",
      "    samples = collate_fn([dataset[i] for i in batch_indices])\n",
      "  File \"/home/iswariya/anaconda3/envs/tensorflow/lib/python3.6/site-packages/torch/utils/data/dataloader.py\", line 57, in <listcomp>\n",
      "    samples = collate_fn([dataset[i] for i in batch_indices])\n",
      "  File \"/home/iswariya/anaconda3/envs/tensorflow/lib/python3.6/site-packages/torchvision-0.2.1-py3.6.egg/torchvision/datasets/cifar.py\", line 121, in __getitem__\n",
      "    img = self.transform(img)\n",
      "  File \"/home/iswariya/anaconda3/envs/tensorflow/lib/python3.6/site-packages/torchvision-0.2.1-py3.6.egg/torchvision/transforms/transforms.py\", line 49, in __call__\n",
      "    img = t(img)\n",
      "  File \"/home/iswariya/anaconda3/envs/tensorflow/lib/python3.6/site-packages/torchvision-0.2.1-py3.6.egg/torchvision/transforms/transforms.py\", line 76, in __call__\n",
      "    return F.to_tensor(pic)\n",
      "  File \"/home/iswariya/anaconda3/envs/tensorflow/lib/python3.6/site-packages/torchvision-0.2.1-py3.6.egg/torchvision/transforms/functional.py\", line 81, in to_tensor\n",
      "    img = img.transpose(0, 1).transpose(0, 2).contiguous()\n",
      "KeyboardInterrupt\n",
      "Traceback (most recent call last):\n",
      "  File \"/home/iswariya/anaconda3/envs/tensorflow/lib/python3.6/multiprocessing/process.py\", line 258, in _bootstrap\n",
      "    self.run()\n",
      "  File \"/home/iswariya/anaconda3/envs/tensorflow/lib/python3.6/multiprocessing/process.py\", line 93, in run\n",
      "    self._target(*self._args, **self._kwargs)\n",
      "  File \"/home/iswariya/anaconda3/envs/tensorflow/lib/python3.6/site-packages/torch/utils/data/dataloader.py\", line 57, in _worker_loop\n",
      "    samples = collate_fn([dataset[i] for i in batch_indices])\n",
      "  File \"/home/iswariya/anaconda3/envs/tensorflow/lib/python3.6/site-packages/torch/utils/data/dataloader.py\", line 57, in <listcomp>\n",
      "    samples = collate_fn([dataset[i] for i in batch_indices])\n",
      "  File \"/home/iswariya/anaconda3/envs/tensorflow/lib/python3.6/site-packages/torchvision-0.2.1-py3.6.egg/torchvision/datasets/cifar.py\", line 121, in __getitem__\n",
      "    img = self.transform(img)\n",
      "  File \"/home/iswariya/anaconda3/envs/tensorflow/lib/python3.6/site-packages/torchvision-0.2.1-py3.6.egg/torchvision/transforms/transforms.py\", line 49, in __call__\n",
      "    img = t(img)\n",
      "  File \"/home/iswariya/anaconda3/envs/tensorflow/lib/python3.6/site-packages/torchvision-0.2.1-py3.6.egg/torchvision/transforms/transforms.py\", line 143, in __call__\n",
      "    return F.normalize(tensor, self.mean, self.std)\n",
      "  File \"/home/iswariya/anaconda3/envs/tensorflow/lib/python3.6/site-packages/torchvision-0.2.1-py3.6.egg/torchvision/transforms/functional.py\", line 167, in normalize\n",
      "    for t, m, s in zip(tensor, mean, std):\n",
      "  File \"/home/iswariya/anaconda3/envs/tensorflow/lib/python3.6/site-packages/torch/tensor.py\", line 361, in <lambda>\n",
      "    return iter(imap(lambda i: self[i], range(self.size(0))))\n",
      "KeyboardInterrupt\n",
      "ERROR:root:Internal Python error in the inspect module.\n",
      "Below is the traceback from this internal error.\n",
      "\n"
     ]
    },
    {
     "name": "stdout",
     "output_type": "stream",
     "text": [
      "Traceback (most recent call last):\n",
      "  File \"/home/iswariya/anaconda3/envs/tensorflow/lib/python3.6/site-packages/IPython/core/interactiveshell.py\", line 2910, in run_code\n",
      "    exec(code_obj, self.user_global_ns, self.user_ns)\n",
      "  File \"<ipython-input-8-7920dc701e0e>\", line 35, in <module>\n",
      "    train_loss, train_acc = Train(trainloader)  # Training set accuracy\n",
      "  File \"<ipython-input-7-7080dd709161>\", line 9, in Train\n",
      "    for i, (images, labels) in enumerate(trainloader):\n",
      "  File \"/home/iswariya/anaconda3/envs/tensorflow/lib/python3.6/site-packages/torch/utils/data/dataloader.py\", line 280, in __next__\n",
      "    idx, batch = self._get_batch()\n",
      "  File \"/home/iswariya/anaconda3/envs/tensorflow/lib/python3.6/site-packages/torch/utils/data/dataloader.py\", line 259, in _get_batch\n",
      "    return self.data_queue.get()\n",
      "  File \"/home/iswariya/anaconda3/envs/tensorflow/lib/python3.6/multiprocessing/queues.py\", line 337, in get\n",
      "    return _ForkingPickler.loads(res)\n",
      "  File \"/home/iswariya/anaconda3/envs/tensorflow/lib/python3.6/site-packages/torch/multiprocessing/reductions.py\", line 70, in rebuild_storage_fd\n",
      "    fd = df.detach()\n",
      "  File \"/home/iswariya/anaconda3/envs/tensorflow/lib/python3.6/multiprocessing/resource_sharer.py\", line 57, in detach\n",
      "    with _resource_sharer.get_connection(self._id) as conn:\n",
      "  File \"/home/iswariya/anaconda3/envs/tensorflow/lib/python3.6/multiprocessing/resource_sharer.py\", line 87, in get_connection\n",
      "    c = Client(address, authkey=process.current_process().authkey)\n",
      "  File \"/home/iswariya/anaconda3/envs/tensorflow/lib/python3.6/multiprocessing/connection.py\", line 494, in Client\n",
      "    deliver_challenge(c, authkey)\n",
      "  File \"/home/iswariya/anaconda3/envs/tensorflow/lib/python3.6/multiprocessing/connection.py\", line 722, in deliver_challenge\n",
      "    response = connection.recv_bytes(256)        # reject large message\n",
      "  File \"/home/iswariya/anaconda3/envs/tensorflow/lib/python3.6/multiprocessing/connection.py\", line 216, in recv_bytes\n",
      "    buf = self._recv_bytes(maxlength)\n",
      "  File \"/home/iswariya/anaconda3/envs/tensorflow/lib/python3.6/multiprocessing/connection.py\", line 407, in _recv_bytes\n",
      "    buf = self._recv(4)\n",
      "  File \"/home/iswariya/anaconda3/envs/tensorflow/lib/python3.6/multiprocessing/connection.py\", line 379, in _recv\n",
      "    chunk = read(handle, remaining)\n",
      "KeyboardInterrupt\n",
      "\n",
      "During handling of the above exception, another exception occurred:\n",
      "\n",
      "Traceback (most recent call last):\n",
      "  File \"/home/iswariya/anaconda3/envs/tensorflow/lib/python3.6/site-packages/IPython/core/interactiveshell.py\", line 1828, in showtraceback\n",
      "    stb = value._render_traceback_()\n",
      "AttributeError: 'KeyboardInterrupt' object has no attribute '_render_traceback_'\n",
      "\n",
      "During handling of the above exception, another exception occurred:\n",
      "\n",
      "Traceback (most recent call last):\n",
      "  File \"/home/iswariya/anaconda3/envs/tensorflow/lib/python3.6/site-packages/IPython/core/ultratb.py\", line 1090, in get_records\n",
      "    return _fixed_getinnerframes(etb, number_of_lines_of_context, tb_offset)\n",
      "  File \"/home/iswariya/anaconda3/envs/tensorflow/lib/python3.6/site-packages/IPython/core/ultratb.py\", line 311, in wrapped\n",
      "    return f(*args, **kwargs)\n",
      "  File \"/home/iswariya/anaconda3/envs/tensorflow/lib/python3.6/site-packages/IPython/core/ultratb.py\", line 345, in _fixed_getinnerframes\n",
      "    records = fix_frame_records_filenames(inspect.getinnerframes(etb, context))\n",
      "  File \"/home/iswariya/anaconda3/envs/tensorflow/lib/python3.6/inspect.py\", line 1483, in getinnerframes\n",
      "    frameinfo = (tb.tb_frame,) + getframeinfo(tb, context)\n",
      "  File \"/home/iswariya/anaconda3/envs/tensorflow/lib/python3.6/inspect.py\", line 1441, in getframeinfo\n",
      "    filename = getsourcefile(frame) or getfile(frame)\n",
      "  File \"/home/iswariya/anaconda3/envs/tensorflow/lib/python3.6/inspect.py\", line 696, in getsourcefile\n",
      "    if getattr(getmodule(object, filename), '__loader__', None) is not None:\n",
      "  File \"/home/iswariya/anaconda3/envs/tensorflow/lib/python3.6/inspect.py\", line 739, in getmodule\n",
      "    f = getabsfile(module)\n",
      "  File \"/home/iswariya/anaconda3/envs/tensorflow/lib/python3.6/inspect.py\", line 709, in getabsfile\n",
      "    return os.path.normcase(os.path.abspath(_filename))\n",
      "  File \"/home/iswariya/anaconda3/envs/tensorflow/lib/python3.6/posixpath.py\", line 376, in abspath\n",
      "    return normpath(path)\n",
      "  File \"/home/iswariya/anaconda3/envs/tensorflow/lib/python3.6/posixpath.py\", line 353, in normpath\n",
      "    if comp in (empty, dot):\n",
      "  File \"/home/iswariya/anaconda3/envs/tensorflow/lib/python3.6/site-packages/torch/utils/data/dataloader.py\", line 178, in handler\n",
      "    _error_if_any_worker_fails()\n",
      "RuntimeError: DataLoader worker (pid 13340) exited unexpectedly with exit code 1.\n"
     ]
    },
    {
     "ename": "KeyboardInterrupt",
     "evalue": "",
     "output_type": "error",
     "traceback": [
      "\u001b[0;31m---------------------------------------------------------------------------\u001b[0m"
     ]
    }
   ],
   "source": [
    "\n",
    "input_dim = 32*32*3\n",
    "output_dim = 10\n",
    "\n",
    "\n",
    "train_loss_values =[]\n",
    "train_acc_values =[]\n",
    "\n",
    "test_loss_values =[]\n",
    "test_acc_values =[]\n",
    "\n",
    "val_loss_values =[]\n",
    "val_acc_values =[]\n",
    "\n",
    "\n",
    "# Instatiating the LogisticRegression_model\n",
    "model = LogisticRegression_model(input_dim, output_dim)\n",
    "\n",
    "# Feeding model to GPU\n",
    "if torch.cuda.is_available():\n",
    "    model.cuda()\n",
    "\n",
    "# Using Cross Entropy Loss\n",
    "criterion = nn.CrossEntropyLoss()\n",
    "\n",
    "# Feeding loss function to GPU\n",
    "if torch.cuda.is_available():\n",
    "    criterion = criterion.cuda()\n",
    "\n",
    "#Using Adam Optimizer\n",
    "optimizer = optim.Adam(model.parameters(), lr= learning_rate)\n",
    "\n",
    "for epoch in range(num_epochs):\n",
    "\n",
    "    train_loss, train_acc = Train(trainloader)  # Training set accuracy\n",
    "    train_loss_values.append(train_loss)\n",
    "    train_acc_values.append(train_acc)\n",
    "\n",
    "    val_loss, val_acc = Test(valloader)[0:2] # Validation set loss & accuracy\n",
    "    val_loss_values.append(val_loss)\n",
    "    val_acc_values.append(val_acc)\n",
    "\n",
    "    test_loss, test_acc, Predicted_labels, True_labels = Test(testloader) # Test set accuracy\n",
    "    test_loss_values.append(test_loss)\n",
    "    test_acc_values.append(test_acc)\n",
    "\n",
    "    print(f'Epoch: {epoch}   Train Loss: {train_loss.cpu().numpy():.5f}   Train Acc:{train_acc:.5f}%\\\n",
    "    Val Loss: {val_loss.cpu().numpy():.5f}  Val Acc:{val_acc:.5f}%   Test Acc: {test_acc:.5f}% ')\n",
    "\n",
    "    "
   ]
  },
  {
   "cell_type": "code",
   "execution_count": 10,
   "metadata": {},
   "outputs": [
    {
     "name": "stdout",
     "output_type": "stream",
     "text": [
      "[{'params': [Parameter containing:\n",
      "tensor([[-3.2008e-03,  1.4973e-02, -1.0127e-02,  ...,  1.2930e-03,\n",
      "          1.4190e-02, -5.0433e-03],\n",
      "        [ 1.2765e-02,  7.7512e-03, -1.3806e-02,  ...,  2.3576e-02,\n",
      "          1.5741e-02, -6.9928e-04],\n",
      "        [ 5.3717e-03, -7.5089e-03, -1.3443e-02,  ...,  9.8624e-03,\n",
      "         -2.3753e-03, -1.1969e-02],\n",
      "        ...,\n",
      "        [-1.5127e-02, -1.3200e-02,  5.5072e-03,  ..., -1.0492e-02,\n",
      "          1.5228e-02, -3.3382e-03],\n",
      "        [-1.7845e-02,  6.4983e-03, -1.4670e-02,  ..., -1.2418e-02,\n",
      "         -8.0281e-03,  2.3327e-03],\n",
      "        [ 1.0255e-03,  1.1680e-02,  1.5241e-02,  ...,  1.4835e-02,\n",
      "          8.5263e-03,  1.4718e-03]], device='cuda:0'), Parameter containing:\n",
      "tensor(1.00000e-02 *\n",
      "       [ 1.3495, -0.3641, -1.3298,  ..., -1.1527,  0.9946, -0.7003], device='cuda:0'), Parameter containing:\n",
      "tensor(1.00000e-02 *\n",
      "       [[ 2.5349, -3.6530,  1.4334,  ..., -1.6639,  2.6405,  2.5944],\n",
      "        [ 3.5170,  1.8205,  2.0998,  ...,  1.4811, -3.3034,  1.0580],\n",
      "        [-1.4779,  2.6241, -0.0290,  ..., -2.7141,  2.3932,  1.5621],\n",
      "        ...,\n",
      "        [-2.9376, -1.7067, -2.6192,  ...,  1.8848,  2.3026,  2.6495],\n",
      "        [-0.3667,  3.3938,  1.4909,  ..., -0.4722, -1.5802,  3.3576],\n",
      "        [-1.9573,  1.0995,  2.0606,  ..., -2.3350, -2.8342,  0.8958]], device='cuda:0'), Parameter containing:\n",
      "tensor(1.00000e-02 *\n",
      "       [ 2.9317, -2.2480, -2.2283,  0.2719,  3.1032,  2.4014,  1.4388,\n",
      "         1.8065, -2.5635,  2.1714], device='cuda:0')], 'lr': 0.0001, 'betas': (0.9, 0.999), 'eps': 1e-08, 'weight_decay': 0, 'amsgrad': False}]\n"
     ]
    }
   ],
   "source": [
    "print(model.op)"
   ]
  },
  {
   "cell_type": "code",
   "execution_count": 10,
   "metadata": {},
   "outputs": [],
   "source": [
    "torch.save(model.state_dict(), \"logistic_reg_model.th\")\n"
   ]
  },
  {
   "cell_type": "code",
   "execution_count": 9,
   "metadata": {},
   "outputs": [
    {
     "data": {
      "text/plain": [
       "Text(0,0.5,'Percentage Accuracy')"
      ]
     },
     "execution_count": 9,
     "metadata": {},
     "output_type": "execute_result"
    },
    {
     "data": {
      "image/png": "[encoded data removed]",
      "text/plain": [
       "<matplotlib.figure.Figure at 0x7f3660a48be0>"
      ]
     },
     "metadata": {},
     "output_type": "display_data"
    }
   ],
   "source": [
    "#Plotting the cost function\n",
    "fig = plt.figure(figsize=(12,5))\n",
    "ax = fig.add_subplot(1,2,1)\n",
    "ax.set_title(\"Cost Function\")\n",
    "ax.plot(train_loss_values, '-', color='green')\n",
    "ax.plot(val_loss_values, '-', color='blue')\n",
    "ax.plot(test_loss_values, '-', color='orange')\n",
    "ax.set_xlabel(\"Epochs\")\n",
    "ax.set_ylabel(\"Cost\")\n",
    "#ax.set_yscale('log')\n",
    "\n",
    "ax1 = fig.add_subplot(1,2,2)\n",
    "ax1.set_title(\"Accuracy\")\n",
    "ax1.plot(train_acc_values, '-', color='green')\n",
    "ax1.plot(val_acc_values, '-', color='blue')\n",
    "ax1.plot(test_acc_values, '-', color='orange')\n",
    "ax1.legend(['train_acc', 'val_acc', 'test_acc'],loc='best')\n",
    "ax1.set_xlabel(\"Epochs\")\n",
    "ax1.set_ylabel(\"Percentage Accuracy\")"
   ]
  },
  {
   "cell_type": "code",
   "execution_count": 29,
   "metadata": {},
   "outputs": [
    {
     "name": "stdout",
     "output_type": "stream",
     "text": [
      "[[639  25  63  19  29  16  26  31  91  61]\n",
      " [ 41 589  23  21  15  11  16  25  66 193]\n",
      " [ 82  12 450  67 137  89  62  64  19  18]\n",
      " [ 31  18  95 344  83 199  90  73  22  45]\n",
      " [ 40   7 118  59 495  63  76  94  23  25]\n",
      " [ 22   5  79 181  85 474  42  59  24  29]\n",
      " [ 14  18  86  79 116  53 576  19  13  26]\n",
      " [ 38   9  51  55  86  81  17 615   9  39]\n",
      " [117  67  21  19  17  22   4  15 647  71]\n",
      " [ 45 136  17  25  20  22  21  50  39 625]]\n"
     ]
    }
   ],
   "source": [
    "#Confusion matrix\n",
    "from sklearn.metrics import confusion_matrix\n",
    "cm = confusion_matrix(True_labels, Predicted_labels)\n",
    "print(cm)"
   ]
  },
  {
   "cell_type": "code",
   "execution_count": 30,
   "metadata": {},
   "outputs": [
    {
     "name": "stdout",
     "output_type": "stream",
     "text": [
      "('plane', 'car', 'bird', 'cat', 'deer', 'dog', 'frog', 'horse', 'ship', 'truck')\n"
     ]
    },
    {
     "data": {
      "image/png": "[encoded data removed]",
      "text/plain": [
       "<matplotlib.figure.Figure at 0x7f390cb2a9e8>"
      ]
     },
     "metadata": {},
     "output_type": "display_data"
    }
   ],
   "source": [
    "# Plotting confusion matrix\n",
    "import itertools\n",
    "def plot_confusion_matrix(cm, classes):\n",
    "    \n",
    "    cmap = plt.get_cmap('Greens')\n",
    "    plt.figure(figsize=(8,8))\n",
    "    plt.imshow(cm, cmap = cmap, interpolation = 'nearest')\n",
    "    plt.colorbar()\n",
    "    \n",
    "    tick_marks = np.arange(len(classes))\n",
    "    plt.xticks(tick_marks, classes)\n",
    "    plt.yticks(tick_marks, classes)\n",
    "    print(classes)\n",
    "    plt.xlabel(\"Predicted Values\")\n",
    "    plt.ylabel(\"True Values\")\n",
    "    \n",
    "    threshold = cm.max()/2\n",
    "    \n",
    "    for i, j in itertools.product(range(cm.shape[0]), range(cm.shape[1])):\n",
    "        \n",
    "        plt.text(i, j, f'{cm[i, j]}' , horizontalalignment = 'center', \n",
    "                 color=\"white\" if cm[i, j] > threshold else \"black\")\n",
    "\n",
    "plot_confusion_matrix(cm, classes)"
   ]
  },
  {
   "cell_type": "code",
   "execution_count": null,
   "metadata": {},
   "outputs": [],
   "source": []
  }
 ],
 "metadata": {
  "kernelspec": {
   "display_name": "Python 3",
   "language": "python",
   "name": "python3"
  },
  "language_info": {
   "codemirror_mode": {
    "name": "ipython",
    "version": 3
   },
   "file_extension": ".py",
   "mimetype": "text/x-python",
   "name": "python",
   "nbconvert_exporter": "python",
   "pygments_lexer": "ipython3",
   "version": "3.6.6"
  }
 },
 "nbformat": 4,
 "nbformat_minor": 2
}
